{
 "cells": [
  {
   "cell_type": "code",
   "execution_count": null,
   "metadata": {},
   "outputs": [],
   "source": [
    "import pandas as pd\n",
    "import matplotlib.pyplot as plt\n",
    "import numpy as np\n",
    "import seaborn as sns\n",
    "%matplotlib inline\n",
    "from sklearn.model_selection import GridSearchCV\n",
    "from sklearn.model_selection import train_test_split\n",
    "from catboost import CatBoostRegressor "
   ]
  },
  {
   "cell_type": "code",
   "execution_count": null,
   "metadata": {},
   "outputs": [],
   "source": [
    "import os\n",
    "os.listdir('input')"
   ]
  },
  {
   "cell_type": "code",
   "execution_count": null,
   "metadata": {},
   "outputs": [],
   "source": [
    "df_train = pd.read_csv('input/train_processed.csv')\n",
    "df_submit = pd.read_csv('input/test_processed.csv')"
   ]
  },
  {
   "cell_type": "code",
   "execution_count": null,
   "metadata": {},
   "outputs": [],
   "source": [
    "#Preparing dtaframe for catboost\n",
    "df_tmp = df_train.drop(['Unnamed: 0','id','center_id', 'meal_id',\n",
    "       'city_code', 'region_code', 'city_region',\n",
    "       'center_type', 'category', 'cuisine','num_orders_log1p',\n",
    "        'city_code', 'region_code'], axis=1)"
   ]
  },
  {
   "cell_type": "code",
   "execution_count": null,
   "metadata": {},
   "outputs": [],
   "source": [
    "df_tmp['Quarter']=(df_tmp['week']/13).astype('int64')\n",
    "df_tmp['Quarter'] = df_tmp['Quarter'].map({0:'Q1',\n",
    "                         1:'Q2',\n",
    "                         2:'Q3',\n",
    "                         3:'Q4',\n",
    "                         4:'Q1',\n",
    "                         5:'Q2',\n",
    "                         6:'Q3',\n",
    "                         7:'Q4',\n",
    "                         8:'Q1',\n",
    "                         9:'Q2',\n",
    "                         10:'Q3',\n",
    "                         11:'Q4'})\n",
    "\n",
    "df_tmp['Year']=(df_tmp['week']/52).astype('int64')\n",
    "df_tmp['Year'] = df_tmp['Year'].map({0:'Y1',\n",
    "                         1:'Y2',\n",
    "                         2:'Y3',\n",
    "                         3:'Y4',\n",
    "                         4:'Y5'})"
   ]
  },
  {
   "cell_type": "code",
   "execution_count": null,
   "metadata": {},
   "outputs": [],
   "source": [
    "cat_cols_catboost = ['week','meal_id_encoded',\n",
    "                     'center_id_encoded',\n",
    "                     'emailer_for_promotion',\n",
    "                     'homepage_featured',\n",
    "                     'city_region_encoded',\n",
    "                     'center_type_encoded',\n",
    "                     'category_encoded',\n",
    "                     'cuisine_encoded',\n",
    "                    'Quarter',\n",
    "                    'Year'\n",
    "                    ]"
   ]
  },
  {
   "cell_type": "code",
   "execution_count": null,
   "metadata": {},
   "outputs": [],
   "source": [
    "df_tmp.columns"
   ]
  },
  {
   "cell_type": "code",
   "execution_count": null,
   "metadata": {},
   "outputs": [],
   "source": [
    "import seaborn as sns\n",
    "#get correlations of each features in dataset\n",
    "corrmat = df_tmp.corr()\n",
    "top_corr_features = corrmat.index\n",
    "plt.figure(figsize=(20,20))\n",
    "#plot heat map\n",
    "g=sns.heatmap(df_tmp[top_corr_features].corr(),annot=True)"
   ]
  },
  {
   "cell_type": "code",
   "execution_count": null,
   "metadata": {},
   "outputs": [],
   "source": [
    "df_trn = df_tmp[df_tmp['week'] < 135]\n",
    "df_tst = df_tmp[df_tmp['week'] > 134]"
   ]
  },
  {
   "cell_type": "code",
   "execution_count": null,
   "metadata": {},
   "outputs": [],
   "source": [
    "y_train = df_trn['num_orders']\n",
    "X_train = df_trn.drop('num_orders', axis=1)\n",
    "\n",
    "y_test = df_tst['num_orders']\n",
    "X_test = df_tst.drop('num_orders', axis=1)"
   ]
  },
  {
   "cell_type": "code",
   "execution_count": null,
   "metadata": {},
   "outputs": [],
   "source": [
    "#y = df_tmp['num_orders']\n",
    "#X = df_tmp.drop('num_orders', axis=1)"
   ]
  },
  {
   "cell_type": "code",
   "execution_count": null,
   "metadata": {},
   "outputs": [],
   "source": [
    "#X_train, X_test, y_train, y_test = train_test_split(X, y, \n",
    "                                                    test_size=0.03, \n",
    "                                                    shuffle=False)"
   ]
  },
  {
   "cell_type": "code",
   "execution_count": null,
   "metadata": {},
   "outputs": [],
   "source": [
    "model = CatBoostRegressor(cat_features = cat_cols_catboost, ignored_features = ['week_cos','discount','base_price'], \n",
    "                          depth= 8, iterations= 1000, l2_leaf_reg = 3, learning_rate = 0.1, early_stopping_rounds=500)"
   ]
  },
  {
   "cell_type": "code",
   "execution_count": null,
   "metadata": {},
   "outputs": [],
   "source": [
    "#grid = {'learning_rate': [0.01, 0.1, 1], 'depth':[4,6,8]}"
   ]
  },
  {
   "cell_type": "code",
   "execution_count": null,
   "metadata": {},
   "outputs": [],
   "source": [
    "#grid_search_resut = model.grid_search(grid, X=X_train, y=y_train, plot=True)"
   ]
  },
  {
   "cell_type": "code",
   "execution_count": null,
   "metadata": {},
   "outputs": [],
   "source": [
    "#params = grid_search_resut.get('params')"
   ]
  },
  {
   "cell_type": "code",
   "execution_count": null,
   "metadata": {},
   "outputs": [],
   "source": [
    "model.fit(X, y, cat_features = cat_cols_catboost)"
   ]
  },
  {
   "cell_type": "code",
   "execution_count": null,
   "metadata": {},
   "outputs": [],
   "source": [
    "y_predict = model.predict(X_test)"
   ]
  },
  {
   "cell_type": "code",
   "execution_count": null,
   "metadata": {},
   "outputs": [],
   "source": [
    "#y_pred = np.expm1(y_predict)"
   ]
  },
  {
   "cell_type": "code",
   "execution_count": null,
   "metadata": {},
   "outputs": [],
   "source": [
    "plt.scatter(y_test, y_predict)"
   ]
  },
  {
   "cell_type": "code",
   "execution_count": null,
   "metadata": {},
   "outputs": [],
   "source": [
    "y_pred_s = pd.Series(y_predict)\n",
    "count, division = np.histogram(y_pred_s)\n",
    "print(f\"Data_Slice: {division}\")\n",
    "print(f\"Count: {count}\")\n",
    "y_pred_s.describe()"
   ]
  },
  {
   "cell_type": "code",
   "execution_count": null,
   "metadata": {},
   "outputs": [],
   "source": [
    "y_pred_less_than_0 = y_pred_s[y_pred_s < 0]\n",
    "print(y_pred_less_than_0.values)"
   ]
  },
  {
   "cell_type": "code",
   "execution_count": null,
   "metadata": {},
   "outputs": [],
   "source": [
    "# negative requirement doesn't mean anything.\n",
    "y_predict[y_predict < 0] = 0"
   ]
  },
  {
   "cell_type": "code",
   "execution_count": null,
   "metadata": {},
   "outputs": [],
   "source": [
    "plt.scatter(y_test, y_predict)"
   ]
  },
  {
   "cell_type": "code",
   "execution_count": null,
   "metadata": {},
   "outputs": [],
   "source": [
    "from sklearn.metrics import mean_squared_log_error\n",
    "np.sqrt(mean_squared_log_error( y_test, y_predict ))"
   ]
  },
  {
   "cell_type": "code",
   "execution_count": null,
   "metadata": {},
   "outputs": [],
   "source": [
    "import joblib\n",
    "filename = 'model1_497029.sav'\n",
    "joblib.dump(model, filename)"
   ]
  },
  {
   "cell_type": "code",
   "execution_count": null,
   "metadata": {},
   "outputs": [],
   "source": [
    "0.4859365998182292"
   ]
  }
 ],
 "metadata": {
  "kernelspec": {
   "display_name": "Python 3",
   "language": "python",
   "name": "python3"
  },
  "language_info": {
   "codemirror_mode": {
    "name": "ipython",
    "version": 3
   },
   "file_extension": ".py",
   "mimetype": "text/x-python",
   "name": "python",
   "nbconvert_exporter": "python",
   "pygments_lexer": "ipython3",
   "version": "3.7.6"
  }
 },
 "nbformat": 4,
 "nbformat_minor": 4
}
