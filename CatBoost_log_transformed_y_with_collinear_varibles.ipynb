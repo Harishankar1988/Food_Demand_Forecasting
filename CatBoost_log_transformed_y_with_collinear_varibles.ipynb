{
  "nbformat": 4,
  "nbformat_minor": 0,
  "metadata": {
    "colab": {
      "name": "HypTuneFoodDemand",
      "provenance": [],
      "collapsed_sections": []
    },
    "kernelspec": {
      "name": "python3",
      "display_name": "Python 3"
    }
  },
  "cells": [
    {
      "cell_type": "code",
      "metadata": {
        "id": "7vx3C0nH97YI",
        "colab_type": "code",
        "colab": {}
      },
      "source": [
        "!pip install -U -q PyDrive"
      ],
      "execution_count": 0,
      "outputs": []
    },
    {
      "cell_type": "code",
      "metadata": {
        "id": "5jJYPnteBme3",
        "colab_type": "code",
        "outputId": "ad0392d4-bd31-4b4c-9ea8-8f43f72e0c5d",
        "colab": {
          "base_uri": "https://localhost:8080/",
          "height": 343
        }
      },
      "source": [
        "!pip install catboost"
      ],
      "execution_count": 1,
      "outputs": [
        {
          "output_type": "stream",
          "text": [
            "Collecting catboost\n",
            "\u001b[?25l  Downloading https://files.pythonhosted.org/packages/b1/61/2b8106c8870601671d99ca94d8b8d180f2b740b7cdb95c930147508abcf9/catboost-0.23-cp36-none-manylinux1_x86_64.whl (64.7MB)\n",
            "\u001b[K     |████████████████████████████████| 64.8MB 54kB/s \n",
            "\u001b[?25hRequirement already satisfied: numpy>=1.16.0 in /usr/local/lib/python3.6/dist-packages (from catboost) (1.18.4)\n",
            "Requirement already satisfied: graphviz in /usr/local/lib/python3.6/dist-packages (from catboost) (0.10.1)\n",
            "Requirement already satisfied: plotly in /usr/local/lib/python3.6/dist-packages (from catboost) (4.4.1)\n",
            "Requirement already satisfied: scipy in /usr/local/lib/python3.6/dist-packages (from catboost) (1.4.1)\n",
            "Requirement already satisfied: six in /usr/local/lib/python3.6/dist-packages (from catboost) (1.12.0)\n",
            "Requirement already satisfied: matplotlib in /usr/local/lib/python3.6/dist-packages (from catboost) (3.2.1)\n",
            "Requirement already satisfied: pandas>=0.24.0 in /usr/local/lib/python3.6/dist-packages (from catboost) (1.0.3)\n",
            "Requirement already satisfied: retrying>=1.3.3 in /usr/local/lib/python3.6/dist-packages (from plotly->catboost) (1.3.3)\n",
            "Requirement already satisfied: kiwisolver>=1.0.1 in /usr/local/lib/python3.6/dist-packages (from matplotlib->catboost) (1.2.0)\n",
            "Requirement already satisfied: cycler>=0.10 in /usr/local/lib/python3.6/dist-packages (from matplotlib->catboost) (0.10.0)\n",
            "Requirement already satisfied: pyparsing!=2.0.4,!=2.1.2,!=2.1.6,>=2.0.1 in /usr/local/lib/python3.6/dist-packages (from matplotlib->catboost) (2.4.7)\n",
            "Requirement already satisfied: python-dateutil>=2.1 in /usr/local/lib/python3.6/dist-packages (from matplotlib->catboost) (2.8.1)\n",
            "Requirement already satisfied: pytz>=2017.2 in /usr/local/lib/python3.6/dist-packages (from pandas>=0.24.0->catboost) (2018.9)\n",
            "Installing collected packages: catboost\n",
            "Successfully installed catboost-0.23\n"
          ],
          "name": "stdout"
        }
      ]
    },
    {
      "cell_type": "code",
      "metadata": {
        "id": "IVa14P4r-Dqu",
        "colab_type": "code",
        "colab": {}
      },
      "source": [
        "from pydrive.auth import GoogleAuth\n",
        "from pydrive.drive import GoogleDrive\n",
        "from google.colab import auth\n",
        "from oauth2client.client import GoogleCredentials\n",
        "# Authenticate and create the PyDrive client.\n",
        "# This only needs to be done once per notebook.\n",
        "auth.authenticate_user()\n",
        "gauth = GoogleAuth()\n",
        "gauth.credentials = GoogleCredentials.get_application_default()\n",
        "drive = GoogleDrive(gauth)"
      ],
      "execution_count": 0,
      "outputs": []
    },
    {
      "cell_type": "code",
      "metadata": {
        "id": "_r2MByU1BbOt",
        "colab_type": "code",
        "colab": {
          "base_uri": "https://localhost:8080/",
          "height": 71
        },
        "outputId": "2ec658fc-3960-4ab5-a7e0-6ed34d6599a5"
      },
      "source": [
        "import pandas as pd\n",
        "import matplotlib.pyplot as plt\n",
        "import numpy as np\n",
        "import seaborn as sns\n",
        "%matplotlib inline\n",
        "from sklearn.model_selection import GridSearchCV\n",
        "from sklearn.model_selection import train_test_split\n",
        "from catboost import CatBoostRegressor "
      ],
      "execution_count": 3,
      "outputs": [
        {
          "output_type": "stream",
          "text": [
            "/usr/local/lib/python3.6/dist-packages/statsmodels/tools/_testing.py:19: FutureWarning: pandas.util.testing is deprecated. Use the functions in the public API at pandas.testing instead.\n",
            "  import pandas.util.testing as tm\n"
          ],
          "name": "stderr"
        }
      ]
    },
    {
      "cell_type": "code",
      "metadata": {
        "id": "K7aDq6pE_Rul",
        "colab_type": "code",
        "colab": {}
      },
      "source": [
        "file_id = '1CJoDAPL7S5Ym-jUinpGMAKtJFuyNx_An' # URL id. \n",
        "downloaded = drive.CreateFile({'id': file_id})\n",
        "downloaded.GetContentFile('test_processed.csv')\n",
        "df_submit = pd.read_csv('test_processed.csv')"
      ],
      "execution_count": 0,
      "outputs": []
    },
    {
      "cell_type": "code",
      "metadata": {
        "id": "kjYTIHzRi2SB",
        "colab_type": "code",
        "colab": {}
      },
      "source": [
        "file_id = '1sMzBtIKoOUQy2xWALjM3JmKYULvBwl2M' # URL id. \n",
        "downloaded = drive.CreateFile({'id': file_id})\n",
        "downloaded.GetContentFile('train_processed.csv')\n",
        "df_train = pd.read_csv('train_processed.csv')"
      ],
      "execution_count": 0,
      "outputs": []
    },
    {
      "cell_type": "code",
      "metadata": {
        "id": "CcGhI4V4A1bs",
        "colab_type": "code",
        "outputId": "cb68d527-b3f2-4e1c-9a27-21771240c8f0",
        "colab": {
          "base_uri": "https://localhost:8080/",
          "height": 34
        }
      },
      "source": [
        "!ls"
      ],
      "execution_count": 7,
      "outputs": [
        {
          "output_type": "stream",
          "text": [
            "adc.json  sample_data  test_processed.csv  train_processed.csv\n"
          ],
          "name": "stdout"
        }
      ]
    },
    {
      "cell_type": "code",
      "metadata": {
        "id": "Q6uWQEOvByW7",
        "colab_type": "code",
        "colab": {}
      },
      "source": [
        "df_tmp = df_train.drop(['Unnamed: 0','id','center_id', 'meal_id',\n",
        "       'city_code', 'region_code', 'city_region', 'city_code_encoded', 'region_code_encoded',\n",
        "       'center_type', 'category', 'cuisine','num_orders'], axis=1)"
      ],
      "execution_count": 0,
      "outputs": []
    },
    {
      "cell_type": "code",
      "metadata": {
        "id": "M4lG_K6sIn4b",
        "colab_type": "code",
        "colab": {
          "base_uri": "https://localhost:8080/",
          "height": 119
        },
        "outputId": "5db74fa8-6c55-4f4e-e364-f5d2b8fdee71"
      },
      "source": [
        "df_tmp.columns"
      ],
      "execution_count": 37,
      "outputs": [
        {
          "output_type": "execute_result",
          "data": {
            "text/plain": [
              "Index(['week', 'checkout_price', 'base_price', 'emailer_for_promotion',\n",
              "       'homepage_featured', 'op_area', 'discount', 'rate_of_discount',\n",
              "       'week_sin', 'week_cos', 'center_id_encoded', 'meal_id_encoded',\n",
              "       'city_region_encoded', 'center_type_encoded', 'category_encoded',\n",
              "       'cuisine_encoded', 'num_orders_log1p', 'Quarter', 'Year'],\n",
              "      dtype='object')"
            ]
          },
          "metadata": {
            "tags": []
          },
          "execution_count": 37
        }
      ]
    },
    {
      "cell_type": "code",
      "metadata": {
        "id": "yL5A65sCB9R0",
        "colab_type": "code",
        "colab": {}
      },
      "source": [
        "cat_cols_catboost = ['emailer_for_promotion',\n",
        "                     'homepage_featured',\n",
        "                     'city_region_encoded',\n",
        "                     'center_type_encoded',\n",
        "                     'category_encoded',\n",
        "                     'cuisine_encoded',\n",
        "                    'Quarter',\n",
        "                    'Year'\n",
        "                    ]\n",
        "cat_cols_catboost_ = ['meal_id_encoded',\n",
        "                     'center_id_encoded',\n",
        "                     'emailer_for_promotion',\n",
        "                     'homepage_featured',\n",
        "                     'city_region_encoded',\n",
        "                     'center_type_encoded',\n",
        "                     'category_encoded',\n",
        "                     'cuisine_encoded',\n",
        "                    'Quarter',\n",
        "                    'Year'\n",
        "                    ]                    "
      ],
      "execution_count": 0,
      "outputs": []
    },
    {
      "cell_type": "code",
      "metadata": {
        "id": "2yHUbHJDCDXV",
        "colab_type": "code",
        "colab": {}
      },
      "source": [
        "y = df_tmp['num_orders_log1p']\n",
        "X = df_tmp.drop('num_orders_log1p', axis=1)"
      ],
      "execution_count": 0,
      "outputs": []
    },
    {
      "cell_type": "code",
      "metadata": {
        "id": "J4p5GJ-DCHFk",
        "colab_type": "code",
        "colab": {}
      },
      "source": [
        "X_train, X_test, y_train, y_test = train_test_split(X, y, \n",
        "                                                    test_size=0.03, \n",
        "                                                    shuffle=False)"
      ],
      "execution_count": 0,
      "outputs": []
    },
    {
      "cell_type": "code",
      "metadata": {
        "id": "vx8kXQ0cCI8S",
        "colab_type": "code",
        "colab": {}
      },
      "source": [
        "model = CatBoostRegressor(cat_features = cat_cols_catboost, eval_metric='MSLE', \n",
        "                         # ignored_features = ['week','week_cos','center_id_encoded','meal_id_encoded','checkout_price','discount'], \n",
        "                          ignored_features = ['week','week_cos'], \n",
        "                          early_stopping_rounds=500)"
      ],
      "execution_count": 0,
      "outputs": []
    },
    {
      "cell_type": "code",
      "metadata": {
        "id": "4-KYjd8hCRGT",
        "colab_type": "code",
        "colab": {
          "base_uri": "https://localhost:8080/",
          "height": 1000
        },
        "outputId": "0da96c4b-f6f0-4c5e-d653-671a8e342609"
      },
      "source": [
        "model.fit(X, y, cat_features = cat_cols_catboost)"
      ],
      "execution_count": 42,
      "outputs": [
        {
          "output_type": "stream",
          "text": [
            "Learning rate set to 0.116088\n",
            "0:\tlearn: 0.0403964\ttotal: 632ms\tremaining: 10m 31s\n",
            "1:\tlearn: 0.0358911\ttotal: 1.19s\tremaining: 9m 52s\n",
            "2:\tlearn: 0.0322551\ttotal: 1.53s\tremaining: 8m 30s\n",
            "3:\tlearn: 0.0292148\ttotal: 1.94s\tremaining: 8m 2s\n",
            "4:\tlearn: 0.0268147\ttotal: 2.38s\tremaining: 7m 54s\n",
            "5:\tlearn: 0.0248156\ttotal: 2.87s\tremaining: 7m 54s\n",
            "6:\tlearn: 0.0232069\ttotal: 3.29s\tremaining: 7m 46s\n",
            "7:\tlearn: 0.0218978\ttotal: 3.7s\tremaining: 7m 38s\n",
            "8:\tlearn: 0.0208091\ttotal: 4.07s\tremaining: 7m 28s\n",
            "9:\tlearn: 0.0198588\ttotal: 4.49s\tremaining: 7m 24s\n",
            "10:\tlearn: 0.0190912\ttotal: 4.89s\tremaining: 7m 19s\n",
            "11:\tlearn: 0.0184580\ttotal: 5.32s\tremaining: 7m 18s\n",
            "12:\tlearn: 0.0179295\ttotal: 5.67s\tremaining: 7m 10s\n",
            "13:\tlearn: 0.0174712\ttotal: 6.14s\tremaining: 7m 12s\n",
            "14:\tlearn: 0.0170801\ttotal: 6.59s\tremaining: 7m 12s\n",
            "15:\tlearn: 0.0167433\ttotal: 7.06s\tremaining: 7m 14s\n",
            "16:\tlearn: 0.0164528\ttotal: 7.47s\tremaining: 7m 11s\n",
            "17:\tlearn: 0.0161666\ttotal: 7.96s\tremaining: 7m 14s\n",
            "18:\tlearn: 0.0158942\ttotal: 8.38s\tremaining: 7m 12s\n",
            "19:\tlearn: 0.0156750\ttotal: 8.75s\tremaining: 7m 8s\n",
            "20:\tlearn: 0.0154652\ttotal: 9.21s\tremaining: 7m 9s\n",
            "21:\tlearn: 0.0152972\ttotal: 9.64s\tremaining: 7m 8s\n",
            "22:\tlearn: 0.0151683\ttotal: 10.1s\tremaining: 7m 8s\n",
            "23:\tlearn: 0.0150565\ttotal: 10.5s\tremaining: 7m 8s\n",
            "24:\tlearn: 0.0149405\ttotal: 11s\tremaining: 7m 9s\n",
            "25:\tlearn: 0.0148443\ttotal: 11.5s\tremaining: 7m 9s\n",
            "26:\tlearn: 0.0147189\ttotal: 11.9s\tremaining: 7m 10s\n",
            "27:\tlearn: 0.0146108\ttotal: 12.4s\tremaining: 7m 11s\n",
            "28:\tlearn: 0.0145201\ttotal: 12.9s\tremaining: 7m 13s\n",
            "29:\tlearn: 0.0144281\ttotal: 13.5s\tremaining: 7m 15s\n",
            "30:\tlearn: 0.0142739\ttotal: 14s\tremaining: 7m 16s\n",
            "31:\tlearn: 0.0141658\ttotal: 14.4s\tremaining: 7m 16s\n",
            "32:\tlearn: 0.0140927\ttotal: 14.9s\tremaining: 7m 17s\n",
            "33:\tlearn: 0.0140141\ttotal: 15.5s\tremaining: 7m 21s\n",
            "34:\tlearn: 0.0139186\ttotal: 16.1s\tremaining: 7m 22s\n",
            "35:\tlearn: 0.0138625\ttotal: 16.6s\tremaining: 7m 24s\n",
            "36:\tlearn: 0.0138075\ttotal: 17.1s\tremaining: 7m 24s\n",
            "37:\tlearn: 0.0137113\ttotal: 17.6s\tremaining: 7m 24s\n",
            "38:\tlearn: 0.0136375\ttotal: 18s\tremaining: 7m 24s\n",
            "39:\tlearn: 0.0135369\ttotal: 18.6s\tremaining: 7m 25s\n",
            "40:\tlearn: 0.0134690\ttotal: 19.1s\tremaining: 7m 26s\n",
            "41:\tlearn: 0.0133903\ttotal: 19.6s\tremaining: 7m 26s\n",
            "42:\tlearn: 0.0133319\ttotal: 20.1s\tremaining: 7m 27s\n",
            "43:\tlearn: 0.0132917\ttotal: 20.7s\tremaining: 7m 29s\n",
            "44:\tlearn: 0.0132367\ttotal: 21.2s\tremaining: 7m 30s\n",
            "45:\tlearn: 0.0131980\ttotal: 21.7s\tremaining: 7m 31s\n",
            "46:\tlearn: 0.0131599\ttotal: 22.2s\tremaining: 7m 30s\n",
            "47:\tlearn: 0.0131192\ttotal: 22.8s\tremaining: 7m 31s\n",
            "48:\tlearn: 0.0130808\ttotal: 23.3s\tremaining: 7m 31s\n",
            "49:\tlearn: 0.0130455\ttotal: 23.8s\tremaining: 7m 32s\n",
            "50:\tlearn: 0.0129880\ttotal: 24.4s\tremaining: 7m 33s\n",
            "51:\tlearn: 0.0129512\ttotal: 24.8s\tremaining: 7m 32s\n",
            "52:\tlearn: 0.0129207\ttotal: 25.3s\tremaining: 7m 32s\n",
            "53:\tlearn: 0.0128881\ttotal: 25.8s\tremaining: 7m 32s\n",
            "54:\tlearn: 0.0128307\ttotal: 26.4s\tremaining: 7m 32s\n",
            "55:\tlearn: 0.0127848\ttotal: 26.9s\tremaining: 7m 32s\n",
            "56:\tlearn: 0.0127617\ttotal: 27.4s\tremaining: 7m 34s\n",
            "57:\tlearn: 0.0127175\ttotal: 27.9s\tremaining: 7m 32s\n",
            "58:\tlearn: 0.0126693\ttotal: 28.4s\tremaining: 7m 33s\n",
            "59:\tlearn: 0.0126123\ttotal: 28.8s\tremaining: 7m 31s\n",
            "60:\tlearn: 0.0125476\ttotal: 29.2s\tremaining: 7m 30s\n",
            "61:\tlearn: 0.0125042\ttotal: 29.7s\tremaining: 7m 30s\n",
            "62:\tlearn: 0.0124517\ttotal: 30.2s\tremaining: 7m 29s\n",
            "63:\tlearn: 0.0124117\ttotal: 30.7s\tremaining: 7m 28s\n",
            "64:\tlearn: 0.0123781\ttotal: 31.2s\tremaining: 7m 28s\n",
            "65:\tlearn: 0.0123358\ttotal: 31.7s\tremaining: 7m 28s\n",
            "66:\tlearn: 0.0123135\ttotal: 32.2s\tremaining: 7m 28s\n",
            "67:\tlearn: 0.0122882\ttotal: 32.8s\tremaining: 7m 29s\n",
            "68:\tlearn: 0.0122659\ttotal: 33.3s\tremaining: 7m 29s\n",
            "69:\tlearn: 0.0122426\ttotal: 33.8s\tremaining: 7m 29s\n",
            "70:\tlearn: 0.0122006\ttotal: 34.3s\tremaining: 7m 29s\n",
            "71:\tlearn: 0.0121739\ttotal: 34.9s\tremaining: 7m 29s\n",
            "72:\tlearn: 0.0121562\ttotal: 35.3s\tremaining: 7m 28s\n",
            "73:\tlearn: 0.0121271\ttotal: 35.9s\tremaining: 7m 28s\n",
            "74:\tlearn: 0.0121151\ttotal: 36.4s\tremaining: 7m 28s\n",
            "75:\tlearn: 0.0120681\ttotal: 36.9s\tremaining: 7m 28s\n",
            "76:\tlearn: 0.0120392\ttotal: 37.4s\tremaining: 7m 28s\n",
            "77:\tlearn: 0.0120038\ttotal: 38s\tremaining: 7m 28s\n",
            "78:\tlearn: 0.0119892\ttotal: 38.5s\tremaining: 7m 28s\n",
            "79:\tlearn: 0.0119617\ttotal: 39s\tremaining: 7m 28s\n",
            "80:\tlearn: 0.0119430\ttotal: 39.5s\tremaining: 7m 27s\n",
            "81:\tlearn: 0.0119096\ttotal: 40s\tremaining: 7m 27s\n",
            "82:\tlearn: 0.0118805\ttotal: 40.4s\tremaining: 7m 26s\n",
            "83:\tlearn: 0.0118644\ttotal: 41s\tremaining: 7m 27s\n",
            "84:\tlearn: 0.0118311\ttotal: 41.5s\tremaining: 7m 27s\n",
            "85:\tlearn: 0.0118110\ttotal: 42s\tremaining: 7m 26s\n",
            "86:\tlearn: 0.0117792\ttotal: 42.5s\tremaining: 7m 25s\n",
            "87:\tlearn: 0.0117379\ttotal: 43s\tremaining: 7m 25s\n",
            "88:\tlearn: 0.0117106\ttotal: 43.3s\tremaining: 7m 23s\n",
            "89:\tlearn: 0.0116889\ttotal: 43.8s\tremaining: 7m 22s\n",
            "90:\tlearn: 0.0116657\ttotal: 44.3s\tremaining: 7m 22s\n",
            "91:\tlearn: 0.0116388\ttotal: 44.9s\tremaining: 7m 23s\n",
            "92:\tlearn: 0.0116064\ttotal: 45.4s\tremaining: 7m 22s\n",
            "93:\tlearn: 0.0115928\ttotal: 45.9s\tremaining: 7m 22s\n",
            "94:\tlearn: 0.0115821\ttotal: 46.5s\tremaining: 7m 22s\n",
            "95:\tlearn: 0.0115663\ttotal: 47s\tremaining: 7m 22s\n",
            "96:\tlearn: 0.0115448\ttotal: 47.6s\tremaining: 7m 23s\n",
            "97:\tlearn: 0.0115227\ttotal: 48.2s\tremaining: 7m 23s\n",
            "98:\tlearn: 0.0115117\ttotal: 48.7s\tremaining: 7m 23s\n",
            "99:\tlearn: 0.0114915\ttotal: 49.3s\tremaining: 7m 23s\n",
            "100:\tlearn: 0.0114661\ttotal: 49.8s\tremaining: 7m 23s\n",
            "101:\tlearn: 0.0114439\ttotal: 50.3s\tremaining: 7m 22s\n",
            "102:\tlearn: 0.0114201\ttotal: 50.7s\tremaining: 7m 21s\n",
            "103:\tlearn: 0.0113923\ttotal: 51.2s\tremaining: 7m 21s\n",
            "104:\tlearn: 0.0113731\ttotal: 51.6s\tremaining: 7m 19s\n",
            "105:\tlearn: 0.0113537\ttotal: 52s\tremaining: 7m 18s\n",
            "106:\tlearn: 0.0113455\ttotal: 52.5s\tremaining: 7m 18s\n",
            "107:\tlearn: 0.0113262\ttotal: 53s\tremaining: 7m 17s\n",
            "108:\tlearn: 0.0113034\ttotal: 53.6s\tremaining: 7m 18s\n",
            "109:\tlearn: 0.0112867\ttotal: 54.1s\tremaining: 7m 17s\n",
            "110:\tlearn: 0.0112710\ttotal: 54.6s\tremaining: 7m 17s\n",
            "111:\tlearn: 0.0112552\ttotal: 55s\tremaining: 7m 16s\n",
            "112:\tlearn: 0.0112389\ttotal: 55.4s\tremaining: 7m 14s\n",
            "113:\tlearn: 0.0112219\ttotal: 55.9s\tremaining: 7m 14s\n",
            "114:\tlearn: 0.0112044\ttotal: 56.5s\tremaining: 7m 14s\n",
            "115:\tlearn: 0.0111891\ttotal: 57s\tremaining: 7m 14s\n",
            "116:\tlearn: 0.0111776\ttotal: 57.5s\tremaining: 7m 13s\n",
            "117:\tlearn: 0.0111616\ttotal: 58s\tremaining: 7m 13s\n",
            "118:\tlearn: 0.0111397\ttotal: 58.5s\tremaining: 7m 13s\n",
            "119:\tlearn: 0.0111185\ttotal: 59s\tremaining: 7m 12s\n",
            "120:\tlearn: 0.0111050\ttotal: 59.5s\tremaining: 7m 12s\n",
            "121:\tlearn: 0.0110911\ttotal: 1m\tremaining: 7m 12s\n",
            "122:\tlearn: 0.0110842\ttotal: 1m\tremaining: 7m 11s\n",
            "123:\tlearn: 0.0110687\ttotal: 1m 1s\tremaining: 7m 11s\n",
            "124:\tlearn: 0.0110627\ttotal: 1m 1s\tremaining: 7m 11s\n",
            "125:\tlearn: 0.0110487\ttotal: 1m 2s\tremaining: 7m 11s\n",
            "126:\tlearn: 0.0110374\ttotal: 1m 2s\tremaining: 7m 11s\n",
            "127:\tlearn: 0.0110223\ttotal: 1m 3s\tremaining: 7m 11s\n",
            "128:\tlearn: 0.0110117\ttotal: 1m 3s\tremaining: 7m 11s\n",
            "129:\tlearn: 0.0110027\ttotal: 1m 4s\tremaining: 7m 10s\n",
            "130:\tlearn: 0.0109868\ttotal: 1m 4s\tremaining: 7m 9s\n",
            "131:\tlearn: 0.0109761\ttotal: 1m 5s\tremaining: 7m 9s\n",
            "132:\tlearn: 0.0109688\ttotal: 1m 5s\tremaining: 7m 9s\n",
            "133:\tlearn: 0.0109594\ttotal: 1m 6s\tremaining: 7m 9s\n",
            "134:\tlearn: 0.0109491\ttotal: 1m 6s\tremaining: 7m 8s\n",
            "135:\tlearn: 0.0109384\ttotal: 1m 7s\tremaining: 7m 8s\n",
            "136:\tlearn: 0.0109287\ttotal: 1m 7s\tremaining: 7m 8s\n",
            "137:\tlearn: 0.0109127\ttotal: 1m 8s\tremaining: 7m 7s\n",
            "138:\tlearn: 0.0109021\ttotal: 1m 8s\tremaining: 7m 7s\n",
            "139:\tlearn: 0.0108962\ttotal: 1m 9s\tremaining: 7m 6s\n",
            "140:\tlearn: 0.0108832\ttotal: 1m 9s\tremaining: 7m 6s\n",
            "141:\tlearn: 0.0108751\ttotal: 1m 10s\tremaining: 7m 6s\n",
            "142:\tlearn: 0.0108653\ttotal: 1m 11s\tremaining: 7m 5s\n",
            "143:\tlearn: 0.0108563\ttotal: 1m 11s\tremaining: 7m 4s\n",
            "144:\tlearn: 0.0108457\ttotal: 1m 11s\tremaining: 7m 3s\n",
            "145:\tlearn: 0.0108359\ttotal: 1m 12s\tremaining: 7m 3s\n",
            "146:\tlearn: 0.0108266\ttotal: 1m 12s\tremaining: 7m 2s\n",
            "147:\tlearn: 0.0108098\ttotal: 1m 13s\tremaining: 7m 2s\n",
            "148:\tlearn: 0.0107995\ttotal: 1m 13s\tremaining: 7m 1s\n",
            "149:\tlearn: 0.0107938\ttotal: 1m 14s\tremaining: 7m 1s\n",
            "150:\tlearn: 0.0107826\ttotal: 1m 14s\tremaining: 7m\n",
            "151:\tlearn: 0.0107704\ttotal: 1m 15s\tremaining: 6m 59s\n",
            "152:\tlearn: 0.0107641\ttotal: 1m 15s\tremaining: 6m 59s\n",
            "153:\tlearn: 0.0107550\ttotal: 1m 16s\tremaining: 6m 59s\n",
            "154:\tlearn: 0.0107427\ttotal: 1m 16s\tremaining: 6m 59s\n",
            "155:\tlearn: 0.0107308\ttotal: 1m 17s\tremaining: 6m 58s\n",
            "156:\tlearn: 0.0107234\ttotal: 1m 17s\tremaining: 6m 57s\n",
            "157:\tlearn: 0.0107162\ttotal: 1m 18s\tremaining: 6m 57s\n",
            "158:\tlearn: 0.0107061\ttotal: 1m 18s\tremaining: 6m 57s\n",
            "159:\tlearn: 0.0107017\ttotal: 1m 19s\tremaining: 6m 56s\n",
            "160:\tlearn: 0.0106917\ttotal: 1m 19s\tremaining: 6m 56s\n",
            "161:\tlearn: 0.0106832\ttotal: 1m 20s\tremaining: 6m 56s\n",
            "162:\tlearn: 0.0106755\ttotal: 1m 21s\tremaining: 6m 56s\n",
            "163:\tlearn: 0.0106649\ttotal: 1m 21s\tremaining: 6m 55s\n",
            "164:\tlearn: 0.0106529\ttotal: 1m 22s\tremaining: 6m 55s\n",
            "165:\tlearn: 0.0106480\ttotal: 1m 22s\tremaining: 6m 55s\n",
            "166:\tlearn: 0.0106397\ttotal: 1m 23s\tremaining: 6m 54s\n",
            "167:\tlearn: 0.0106301\ttotal: 1m 23s\tremaining: 6m 54s\n",
            "168:\tlearn: 0.0106218\ttotal: 1m 24s\tremaining: 6m 53s\n",
            "169:\tlearn: 0.0106154\ttotal: 1m 24s\tremaining: 6m 53s\n",
            "170:\tlearn: 0.0106067\ttotal: 1m 25s\tremaining: 6m 52s\n",
            "171:\tlearn: 0.0105988\ttotal: 1m 25s\tremaining: 6m 52s\n",
            "172:\tlearn: 0.0105859\ttotal: 1m 26s\tremaining: 6m 51s\n",
            "173:\tlearn: 0.0105767\ttotal: 1m 26s\tremaining: 6m 51s\n",
            "174:\tlearn: 0.0105682\ttotal: 1m 27s\tremaining: 6m 50s\n",
            "175:\tlearn: 0.0105642\ttotal: 1m 27s\tremaining: 6m 50s\n",
            "176:\tlearn: 0.0105568\ttotal: 1m 28s\tremaining: 6m 49s\n",
            "177:\tlearn: 0.0105485\ttotal: 1m 28s\tremaining: 6m 49s\n",
            "178:\tlearn: 0.0105397\ttotal: 1m 29s\tremaining: 6m 49s\n",
            "179:\tlearn: 0.0105305\ttotal: 1m 29s\tremaining: 6m 48s\n",
            "180:\tlearn: 0.0105234\ttotal: 1m 30s\tremaining: 6m 48s\n",
            "181:\tlearn: 0.0105180\ttotal: 1m 30s\tremaining: 6m 47s\n",
            "182:\tlearn: 0.0105131\ttotal: 1m 31s\tremaining: 6m 47s\n",
            "183:\tlearn: 0.0105094\ttotal: 1m 31s\tremaining: 6m 46s\n",
            "184:\tlearn: 0.0105023\ttotal: 1m 32s\tremaining: 6m 46s\n",
            "185:\tlearn: 0.0104928\ttotal: 1m 32s\tremaining: 6m 45s\n",
            "186:\tlearn: 0.0104826\ttotal: 1m 33s\tremaining: 6m 45s\n",
            "187:\tlearn: 0.0104746\ttotal: 1m 33s\tremaining: 6m 44s\n",
            "188:\tlearn: 0.0104699\ttotal: 1m 34s\tremaining: 6m 43s\n",
            "189:\tlearn: 0.0104615\ttotal: 1m 34s\tremaining: 6m 43s\n",
            "190:\tlearn: 0.0104497\ttotal: 1m 35s\tremaining: 6m 43s\n",
            "191:\tlearn: 0.0104435\ttotal: 1m 35s\tremaining: 6m 42s\n",
            "192:\tlearn: 0.0104333\ttotal: 1m 36s\tremaining: 6m 42s\n",
            "193:\tlearn: 0.0104261\ttotal: 1m 36s\tremaining: 6m 41s\n",
            "194:\tlearn: 0.0104151\ttotal: 1m 37s\tremaining: 6m 41s\n",
            "195:\tlearn: 0.0104074\ttotal: 1m 37s\tremaining: 6m 41s\n",
            "196:\tlearn: 0.0104035\ttotal: 1m 38s\tremaining: 6m 39s\n",
            "197:\tlearn: 0.0103969\ttotal: 1m 38s\tremaining: 6m 39s\n",
            "198:\tlearn: 0.0103906\ttotal: 1m 39s\tremaining: 6m 39s\n",
            "199:\tlearn: 0.0103849\ttotal: 1m 39s\tremaining: 6m 38s\n",
            "200:\tlearn: 0.0103822\ttotal: 1m 40s\tremaining: 6m 38s\n",
            "201:\tlearn: 0.0103742\ttotal: 1m 40s\tremaining: 6m 37s\n",
            "202:\tlearn: 0.0103714\ttotal: 1m 41s\tremaining: 6m 37s\n",
            "203:\tlearn: 0.0103669\ttotal: 1m 41s\tremaining: 6m 36s\n",
            "204:\tlearn: 0.0103591\ttotal: 1m 41s\tremaining: 6m 35s\n",
            "205:\tlearn: 0.0103551\ttotal: 1m 42s\tremaining: 6m 35s\n",
            "206:\tlearn: 0.0103494\ttotal: 1m 43s\tremaining: 6m 34s\n",
            "207:\tlearn: 0.0103411\ttotal: 1m 43s\tremaining: 6m 34s\n",
            "208:\tlearn: 0.0103339\ttotal: 1m 44s\tremaining: 6m 33s\n",
            "209:\tlearn: 0.0103294\ttotal: 1m 44s\tremaining: 6m 33s\n",
            "210:\tlearn: 0.0103230\ttotal: 1m 45s\tremaining: 6m 32s\n",
            "211:\tlearn: 0.0103156\ttotal: 1m 45s\tremaining: 6m 32s\n",
            "212:\tlearn: 0.0103080\ttotal: 1m 46s\tremaining: 6m 31s\n",
            "213:\tlearn: 0.0103028\ttotal: 1m 46s\tremaining: 6m 31s\n",
            "214:\tlearn: 0.0102966\ttotal: 1m 46s\tremaining: 6m 30s\n",
            "215:\tlearn: 0.0102914\ttotal: 1m 47s\tremaining: 6m 30s\n",
            "216:\tlearn: 0.0102852\ttotal: 1m 48s\tremaining: 6m 29s\n",
            "217:\tlearn: 0.0102786\ttotal: 1m 48s\tremaining: 6m 29s\n",
            "218:\tlearn: 0.0102703\ttotal: 1m 49s\tremaining: 6m 29s\n",
            "219:\tlearn: 0.0102634\ttotal: 1m 49s\tremaining: 6m 28s\n",
            "220:\tlearn: 0.0102564\ttotal: 1m 50s\tremaining: 6m 28s\n",
            "221:\tlearn: 0.0102520\ttotal: 1m 50s\tremaining: 6m 28s\n",
            "222:\tlearn: 0.0102472\ttotal: 1m 51s\tremaining: 6m 28s\n",
            "223:\tlearn: 0.0102403\ttotal: 1m 51s\tremaining: 6m 27s\n",
            "224:\tlearn: 0.0102364\ttotal: 1m 52s\tremaining: 6m 27s\n",
            "225:\tlearn: 0.0102310\ttotal: 1m 53s\tremaining: 6m 27s\n",
            "226:\tlearn: 0.0102263\ttotal: 1m 53s\tremaining: 6m 26s\n",
            "227:\tlearn: 0.0102189\ttotal: 1m 54s\tremaining: 6m 26s\n",
            "228:\tlearn: 0.0102133\ttotal: 1m 54s\tremaining: 6m 25s\n",
            "229:\tlearn: 0.0102082\ttotal: 1m 55s\tremaining: 6m 25s\n",
            "230:\tlearn: 0.0102054\ttotal: 1m 55s\tremaining: 6m 25s\n",
            "231:\tlearn: 0.0101981\ttotal: 1m 56s\tremaining: 6m 25s\n",
            "232:\tlearn: 0.0101959\ttotal: 1m 56s\tremaining: 6m 24s\n",
            "233:\tlearn: 0.0101858\ttotal: 1m 57s\tremaining: 6m 24s\n",
            "234:\tlearn: 0.0101799\ttotal: 1m 57s\tremaining: 6m 23s\n",
            "235:\tlearn: 0.0101738\ttotal: 1m 58s\tremaining: 6m 23s\n",
            "236:\tlearn: 0.0101698\ttotal: 1m 58s\tremaining: 6m 23s\n",
            "237:\tlearn: 0.0101630\ttotal: 1m 59s\tremaining: 6m 22s\n",
            "238:\tlearn: 0.0101573\ttotal: 2m\tremaining: 6m 22s\n",
            "239:\tlearn: 0.0101501\ttotal: 2m\tremaining: 6m 21s\n",
            "240:\tlearn: 0.0101462\ttotal: 2m 1s\tremaining: 6m 21s\n",
            "241:\tlearn: 0.0101432\ttotal: 2m 1s\tremaining: 6m 20s\n",
            "242:\tlearn: 0.0101389\ttotal: 2m 1s\tremaining: 6m 19s\n",
            "243:\tlearn: 0.0101348\ttotal: 2m 2s\tremaining: 6m 19s\n",
            "244:\tlearn: 0.0101285\ttotal: 2m 2s\tremaining: 6m 19s\n",
            "245:\tlearn: 0.0101249\ttotal: 2m 3s\tremaining: 6m 18s\n",
            "246:\tlearn: 0.0101209\ttotal: 2m 3s\tremaining: 6m 17s\n",
            "247:\tlearn: 0.0101189\ttotal: 2m 4s\tremaining: 6m 17s\n",
            "248:\tlearn: 0.0101154\ttotal: 2m 5s\tremaining: 6m 17s\n",
            "249:\tlearn: 0.0101124\ttotal: 2m 5s\tremaining: 6m 16s\n",
            "250:\tlearn: 0.0101045\ttotal: 2m 6s\tremaining: 6m 16s\n",
            "251:\tlearn: 0.0101020\ttotal: 2m 6s\tremaining: 6m 15s\n",
            "252:\tlearn: 0.0100943\ttotal: 2m 7s\tremaining: 6m 14s\n",
            "253:\tlearn: 0.0100890\ttotal: 2m 7s\tremaining: 6m 14s\n",
            "254:\tlearn: 0.0100824\ttotal: 2m 7s\tremaining: 6m 13s\n",
            "255:\tlearn: 0.0100774\ttotal: 2m 8s\tremaining: 6m 13s\n",
            "256:\tlearn: 0.0100734\ttotal: 2m 8s\tremaining: 6m 12s\n",
            "257:\tlearn: 0.0100689\ttotal: 2m 9s\tremaining: 6m 12s\n",
            "258:\tlearn: 0.0100619\ttotal: 2m 9s\tremaining: 6m 11s\n",
            "259:\tlearn: 0.0100565\ttotal: 2m 10s\tremaining: 6m 10s\n",
            "260:\tlearn: 0.0100502\ttotal: 2m 10s\tremaining: 6m 10s\n",
            "261:\tlearn: 0.0100456\ttotal: 2m 11s\tremaining: 6m 10s\n",
            "262:\tlearn: 0.0100422\ttotal: 2m 11s\tremaining: 6m 9s\n",
            "263:\tlearn: 0.0100379\ttotal: 2m 12s\tremaining: 6m 9s\n",
            "264:\tlearn: 0.0100347\ttotal: 2m 13s\tremaining: 6m 8s\n",
            "265:\tlearn: 0.0100305\ttotal: 2m 13s\tremaining: 6m 8s\n",
            "266:\tlearn: 0.0100275\ttotal: 2m 13s\tremaining: 6m 7s\n",
            "267:\tlearn: 0.0100227\ttotal: 2m 14s\tremaining: 6m 7s\n",
            "268:\tlearn: 0.0100180\ttotal: 2m 14s\tremaining: 6m 6s\n",
            "269:\tlearn: 0.0100161\ttotal: 2m 15s\tremaining: 6m 6s\n",
            "270:\tlearn: 0.0100080\ttotal: 2m 15s\tremaining: 6m 5s\n",
            "271:\tlearn: 0.0100050\ttotal: 2m 16s\tremaining: 6m 5s\n",
            "272:\tlearn: 0.0100007\ttotal: 2m 16s\tremaining: 6m 4s\n",
            "273:\tlearn: 0.0099957\ttotal: 2m 17s\tremaining: 6m 4s\n",
            "274:\tlearn: 0.0099918\ttotal: 2m 17s\tremaining: 6m 3s\n",
            "275:\tlearn: 0.0099878\ttotal: 2m 18s\tremaining: 6m 3s\n",
            "276:\tlearn: 0.0099817\ttotal: 2m 18s\tremaining: 6m 2s\n",
            "277:\tlearn: 0.0099771\ttotal: 2m 19s\tremaining: 6m 2s\n",
            "278:\tlearn: 0.0099735\ttotal: 2m 19s\tremaining: 6m 1s\n",
            "279:\tlearn: 0.0099700\ttotal: 2m 20s\tremaining: 6m 1s\n",
            "280:\tlearn: 0.0099617\ttotal: 2m 20s\tremaining: 6m\n",
            "281:\tlearn: 0.0099588\ttotal: 2m 21s\tremaining: 6m\n",
            "282:\tlearn: 0.0099543\ttotal: 2m 22s\tremaining: 5m 59s\n",
            "283:\tlearn: 0.0099507\ttotal: 2m 22s\tremaining: 5m 59s\n",
            "284:\tlearn: 0.0099473\ttotal: 2m 23s\tremaining: 5m 58s\n",
            "285:\tlearn: 0.0099438\ttotal: 2m 23s\tremaining: 5m 58s\n",
            "286:\tlearn: 0.0099401\ttotal: 2m 23s\tremaining: 5m 57s\n",
            "287:\tlearn: 0.0099348\ttotal: 2m 24s\tremaining: 5m 57s\n",
            "288:\tlearn: 0.0099299\ttotal: 2m 24s\tremaining: 5m 56s\n",
            "289:\tlearn: 0.0099257\ttotal: 2m 25s\tremaining: 5m 56s\n",
            "290:\tlearn: 0.0099239\ttotal: 2m 25s\tremaining: 5m 55s\n",
            "291:\tlearn: 0.0099156\ttotal: 2m 26s\tremaining: 5m 55s\n",
            "292:\tlearn: 0.0099120\ttotal: 2m 26s\tremaining: 5m 54s\n",
            "293:\tlearn: 0.0099097\ttotal: 2m 27s\tremaining: 5m 54s\n",
            "294:\tlearn: 0.0099056\ttotal: 2m 28s\tremaining: 5m 53s\n",
            "295:\tlearn: 0.0099043\ttotal: 2m 28s\tremaining: 5m 53s\n",
            "296:\tlearn: 0.0099007\ttotal: 2m 28s\tremaining: 5m 52s\n",
            "297:\tlearn: 0.0098970\ttotal: 2m 29s\tremaining: 5m 51s\n",
            "298:\tlearn: 0.0098943\ttotal: 2m 29s\tremaining: 5m 50s\n",
            "299:\tlearn: 0.0098905\ttotal: 2m 29s\tremaining: 5m 49s\n",
            "300:\tlearn: 0.0098817\ttotal: 2m 30s\tremaining: 5m 49s\n",
            "301:\tlearn: 0.0098787\ttotal: 2m 30s\tremaining: 5m 48s\n",
            "302:\tlearn: 0.0098731\ttotal: 2m 31s\tremaining: 5m 48s\n",
            "303:\tlearn: 0.0098696\ttotal: 2m 31s\tremaining: 5m 47s\n",
            "304:\tlearn: 0.0098644\ttotal: 2m 32s\tremaining: 5m 47s\n",
            "305:\tlearn: 0.0098617\ttotal: 2m 32s\tremaining: 5m 46s\n",
            "306:\tlearn: 0.0098581\ttotal: 2m 33s\tremaining: 5m 46s\n",
            "307:\tlearn: 0.0098534\ttotal: 2m 33s\tremaining: 5m 45s\n",
            "308:\tlearn: 0.0098511\ttotal: 2m 34s\tremaining: 5m 44s\n",
            "309:\tlearn: 0.0098445\ttotal: 2m 34s\tremaining: 5m 44s\n",
            "310:\tlearn: 0.0098416\ttotal: 2m 35s\tremaining: 5m 43s\n",
            "311:\tlearn: 0.0098365\ttotal: 2m 35s\tremaining: 5m 43s\n",
            "312:\tlearn: 0.0098331\ttotal: 2m 36s\tremaining: 5m 42s\n",
            "313:\tlearn: 0.0098282\ttotal: 2m 36s\tremaining: 5m 42s\n",
            "314:\tlearn: 0.0098264\ttotal: 2m 37s\tremaining: 5m 41s\n",
            "315:\tlearn: 0.0098211\ttotal: 2m 37s\tremaining: 5m 41s\n",
            "316:\tlearn: 0.0098178\ttotal: 2m 38s\tremaining: 5m 40s\n",
            "317:\tlearn: 0.0098151\ttotal: 2m 38s\tremaining: 5m 40s\n",
            "318:\tlearn: 0.0098100\ttotal: 2m 38s\tremaining: 5m 39s\n",
            "319:\tlearn: 0.0098056\ttotal: 2m 39s\tremaining: 5m 38s\n",
            "320:\tlearn: 0.0098005\ttotal: 2m 39s\tremaining: 5m 38s\n",
            "321:\tlearn: 0.0097959\ttotal: 2m 40s\tremaining: 5m 37s\n",
            "322:\tlearn: 0.0097898\ttotal: 2m 41s\tremaining: 5m 37s\n",
            "323:\tlearn: 0.0097861\ttotal: 2m 41s\tremaining: 5m 36s\n",
            "324:\tlearn: 0.0097838\ttotal: 2m 42s\tremaining: 5m 36s\n",
            "325:\tlearn: 0.0097796\ttotal: 2m 42s\tremaining: 5m 36s\n",
            "326:\tlearn: 0.0097780\ttotal: 2m 43s\tremaining: 5m 35s\n",
            "327:\tlearn: 0.0097761\ttotal: 2m 43s\tremaining: 5m 34s\n",
            "328:\tlearn: 0.0097730\ttotal: 2m 43s\tremaining: 5m 34s\n",
            "329:\tlearn: 0.0097684\ttotal: 2m 44s\tremaining: 5m 34s\n",
            "330:\tlearn: 0.0097631\ttotal: 2m 45s\tremaining: 5m 33s\n",
            "331:\tlearn: 0.0097608\ttotal: 2m 45s\tremaining: 5m 33s\n",
            "332:\tlearn: 0.0097587\ttotal: 2m 46s\tremaining: 5m 32s\n",
            "333:\tlearn: 0.0097564\ttotal: 2m 46s\tremaining: 5m 32s\n",
            "334:\tlearn: 0.0097531\ttotal: 2m 47s\tremaining: 5m 31s\n",
            "335:\tlearn: 0.0097496\ttotal: 2m 47s\tremaining: 5m 31s\n",
            "336:\tlearn: 0.0097415\ttotal: 2m 48s\tremaining: 5m 31s\n",
            "337:\tlearn: 0.0097367\ttotal: 2m 48s\tremaining: 5m 30s\n",
            "338:\tlearn: 0.0097301\ttotal: 2m 49s\tremaining: 5m 30s\n",
            "339:\tlearn: 0.0097270\ttotal: 2m 49s\tremaining: 5m 29s\n",
            "340:\tlearn: 0.0097250\ttotal: 2m 50s\tremaining: 5m 29s\n",
            "341:\tlearn: 0.0097233\ttotal: 2m 50s\tremaining: 5m 28s\n",
            "342:\tlearn: 0.0097188\ttotal: 2m 51s\tremaining: 5m 28s\n",
            "343:\tlearn: 0.0097154\ttotal: 2m 51s\tremaining: 5m 27s\n",
            "344:\tlearn: 0.0097132\ttotal: 2m 52s\tremaining: 5m 27s\n",
            "345:\tlearn: 0.0097085\ttotal: 2m 52s\tremaining: 5m 26s\n",
            "346:\tlearn: 0.0097052\ttotal: 2m 53s\tremaining: 5m 26s\n",
            "347:\tlearn: 0.0097022\ttotal: 2m 54s\tremaining: 5m 26s\n",
            "348:\tlearn: 0.0096972\ttotal: 2m 54s\tremaining: 5m 25s\n",
            "349:\tlearn: 0.0096942\ttotal: 2m 55s\tremaining: 5m 25s\n",
            "350:\tlearn: 0.0096918\ttotal: 2m 55s\tremaining: 5m 24s\n",
            "351:\tlearn: 0.0096885\ttotal: 2m 56s\tremaining: 5m 24s\n",
            "352:\tlearn: 0.0096853\ttotal: 2m 56s\tremaining: 5m 23s\n",
            "353:\tlearn: 0.0096808\ttotal: 2m 57s\tremaining: 5m 23s\n",
            "354:\tlearn: 0.0096775\ttotal: 2m 57s\tremaining: 5m 22s\n",
            "355:\tlearn: 0.0096745\ttotal: 2m 58s\tremaining: 5m 22s\n",
            "356:\tlearn: 0.0096667\ttotal: 2m 58s\tremaining: 5m 21s\n",
            "357:\tlearn: 0.0096644\ttotal: 2m 59s\tremaining: 5m 21s\n",
            "358:\tlearn: 0.0096614\ttotal: 2m 59s\tremaining: 5m 20s\n",
            "359:\tlearn: 0.0096575\ttotal: 3m\tremaining: 5m 20s\n",
            "360:\tlearn: 0.0096542\ttotal: 3m\tremaining: 5m 20s\n",
            "361:\tlearn: 0.0096520\ttotal: 3m 1s\tremaining: 5m 19s\n",
            "362:\tlearn: 0.0096483\ttotal: 3m 1s\tremaining: 5m 19s\n",
            "363:\tlearn: 0.0096452\ttotal: 3m 2s\tremaining: 5m 18s\n",
            "364:\tlearn: 0.0096423\ttotal: 3m 3s\tremaining: 5m 18s\n",
            "365:\tlearn: 0.0096408\ttotal: 3m 3s\tremaining: 5m 18s\n",
            "366:\tlearn: 0.0096374\ttotal: 3m 4s\tremaining: 5m 17s\n",
            "367:\tlearn: 0.0096348\ttotal: 3m 4s\tremaining: 5m 17s\n",
            "368:\tlearn: 0.0096323\ttotal: 3m 5s\tremaining: 5m 16s\n",
            "369:\tlearn: 0.0096312\ttotal: 3m 5s\tremaining: 5m 15s\n",
            "370:\tlearn: 0.0096287\ttotal: 3m 6s\tremaining: 5m 15s\n",
            "371:\tlearn: 0.0096251\ttotal: 3m 6s\tremaining: 5m 15s\n",
            "372:\tlearn: 0.0096226\ttotal: 3m 7s\tremaining: 5m 14s\n",
            "373:\tlearn: 0.0096193\ttotal: 3m 7s\tremaining: 5m 14s\n",
            "374:\tlearn: 0.0096162\ttotal: 3m 8s\tremaining: 5m 13s\n",
            "375:\tlearn: 0.0096130\ttotal: 3m 8s\tremaining: 5m 13s\n",
            "376:\tlearn: 0.0096098\ttotal: 3m 9s\tremaining: 5m 12s\n",
            "377:\tlearn: 0.0096078\ttotal: 3m 9s\tremaining: 5m 12s\n",
            "378:\tlearn: 0.0096052\ttotal: 3m 10s\tremaining: 5m 11s\n",
            "379:\tlearn: 0.0096027\ttotal: 3m 10s\tremaining: 5m 11s\n",
            "380:\tlearn: 0.0096002\ttotal: 3m 11s\tremaining: 5m 10s\n",
            "381:\tlearn: 0.0095985\ttotal: 3m 11s\tremaining: 5m 10s\n",
            "382:\tlearn: 0.0095967\ttotal: 3m 12s\tremaining: 5m 10s\n",
            "383:\tlearn: 0.0095937\ttotal: 3m 12s\tremaining: 5m 9s\n",
            "384:\tlearn: 0.0095907\ttotal: 3m 13s\tremaining: 5m 9s\n",
            "385:\tlearn: 0.0095869\ttotal: 3m 13s\tremaining: 5m 8s\n",
            "386:\tlearn: 0.0095848\ttotal: 3m 14s\tremaining: 5m 8s\n",
            "387:\tlearn: 0.0095809\ttotal: 3m 15s\tremaining: 5m 7s\n",
            "388:\tlearn: 0.0095762\ttotal: 3m 15s\tremaining: 5m 7s\n",
            "389:\tlearn: 0.0095727\ttotal: 3m 15s\tremaining: 5m 6s\n",
            "390:\tlearn: 0.0095702\ttotal: 3m 16s\tremaining: 5m 5s\n",
            "391:\tlearn: 0.0095670\ttotal: 3m 16s\tremaining: 5m 5s\n",
            "392:\tlearn: 0.0095638\ttotal: 3m 17s\tremaining: 5m 4s\n",
            "393:\tlearn: 0.0095608\ttotal: 3m 17s\tremaining: 5m 4s\n",
            "394:\tlearn: 0.0095575\ttotal: 3m 18s\tremaining: 5m 3s\n",
            "395:\tlearn: 0.0095542\ttotal: 3m 18s\tremaining: 5m 3s\n",
            "396:\tlearn: 0.0095515\ttotal: 3m 19s\tremaining: 5m 2s\n",
            "397:\tlearn: 0.0095475\ttotal: 3m 19s\tremaining: 5m 2s\n",
            "398:\tlearn: 0.0095444\ttotal: 3m 20s\tremaining: 5m 2s\n",
            "399:\tlearn: 0.0095407\ttotal: 3m 21s\tremaining: 5m 1s\n",
            "400:\tlearn: 0.0095364\ttotal: 3m 21s\tremaining: 5m 1s\n",
            "401:\tlearn: 0.0095346\ttotal: 3m 22s\tremaining: 5m\n",
            "402:\tlearn: 0.0095308\ttotal: 3m 22s\tremaining: 5m\n",
            "403:\tlearn: 0.0095286\ttotal: 3m 23s\tremaining: 4m 59s\n",
            "404:\tlearn: 0.0095269\ttotal: 3m 23s\tremaining: 4m 59s\n",
            "405:\tlearn: 0.0095258\ttotal: 3m 24s\tremaining: 4m 58s\n",
            "406:\tlearn: 0.0095229\ttotal: 3m 24s\tremaining: 4m 58s\n",
            "407:\tlearn: 0.0095216\ttotal: 3m 25s\tremaining: 4m 57s\n",
            "408:\tlearn: 0.0095167\ttotal: 3m 25s\tremaining: 4m 57s\n",
            "409:\tlearn: 0.0095139\ttotal: 3m 26s\tremaining: 4m 56s\n",
            "410:\tlearn: 0.0095091\ttotal: 3m 26s\tremaining: 4m 55s\n",
            "411:\tlearn: 0.0095077\ttotal: 3m 26s\tremaining: 4m 55s\n",
            "412:\tlearn: 0.0095050\ttotal: 3m 27s\tremaining: 4m 54s\n",
            "413:\tlearn: 0.0095035\ttotal: 3m 27s\tremaining: 4m 54s\n",
            "414:\tlearn: 0.0095009\ttotal: 3m 28s\tremaining: 4m 53s\n",
            "415:\tlearn: 0.0094987\ttotal: 3m 29s\tremaining: 4m 53s\n",
            "416:\tlearn: 0.0094956\ttotal: 3m 29s\tremaining: 4m 53s\n",
            "417:\tlearn: 0.0094949\ttotal: 3m 30s\tremaining: 4m 52s\n",
            "418:\tlearn: 0.0094931\ttotal: 3m 30s\tremaining: 4m 51s\n",
            "419:\tlearn: 0.0094917\ttotal: 3m 30s\tremaining: 4m 51s\n",
            "420:\tlearn: 0.0094904\ttotal: 3m 31s\tremaining: 4m 50s\n",
            "421:\tlearn: 0.0094848\ttotal: 3m 31s\tremaining: 4m 50s\n",
            "422:\tlearn: 0.0094818\ttotal: 3m 32s\tremaining: 4m 49s\n",
            "423:\tlearn: 0.0094803\ttotal: 3m 32s\tremaining: 4m 49s\n",
            "424:\tlearn: 0.0094780\ttotal: 3m 33s\tremaining: 4m 48s\n",
            "425:\tlearn: 0.0094759\ttotal: 3m 34s\tremaining: 4m 48s\n",
            "426:\tlearn: 0.0094737\ttotal: 3m 34s\tremaining: 4m 47s\n",
            "427:\tlearn: 0.0094716\ttotal: 3m 34s\tremaining: 4m 47s\n",
            "428:\tlearn: 0.0094679\ttotal: 3m 35s\tremaining: 4m 46s\n",
            "429:\tlearn: 0.0094662\ttotal: 3m 36s\tremaining: 4m 46s\n",
            "430:\tlearn: 0.0094632\ttotal: 3m 36s\tremaining: 4m 45s\n",
            "431:\tlearn: 0.0094612\ttotal: 3m 37s\tremaining: 4m 45s\n",
            "432:\tlearn: 0.0094587\ttotal: 3m 37s\tremaining: 4m 44s\n",
            "433:\tlearn: 0.0094561\ttotal: 3m 38s\tremaining: 4m 44s\n",
            "434:\tlearn: 0.0094545\ttotal: 3m 38s\tremaining: 4m 43s\n",
            "435:\tlearn: 0.0094519\ttotal: 3m 39s\tremaining: 4m 43s\n",
            "436:\tlearn: 0.0094490\ttotal: 3m 39s\tremaining: 4m 42s\n",
            "437:\tlearn: 0.0094454\ttotal: 3m 40s\tremaining: 4m 42s\n",
            "438:\tlearn: 0.0094401\ttotal: 3m 40s\tremaining: 4m 41s\n",
            "439:\tlearn: 0.0094380\ttotal: 3m 40s\tremaining: 4m 41s\n",
            "440:\tlearn: 0.0094365\ttotal: 3m 41s\tremaining: 4m 40s\n",
            "441:\tlearn: 0.0094342\ttotal: 3m 42s\tremaining: 4m 40s\n",
            "442:\tlearn: 0.0094309\ttotal: 3m 42s\tremaining: 4m 39s\n",
            "443:\tlearn: 0.0094273\ttotal: 3m 42s\tremaining: 4m 39s\n",
            "444:\tlearn: 0.0094250\ttotal: 3m 43s\tremaining: 4m 38s\n",
            "445:\tlearn: 0.0094226\ttotal: 3m 44s\tremaining: 4m 38s\n",
            "446:\tlearn: 0.0094192\ttotal: 3m 44s\tremaining: 4m 37s\n",
            "447:\tlearn: 0.0094157\ttotal: 3m 45s\tremaining: 4m 37s\n",
            "448:\tlearn: 0.0094129\ttotal: 3m 45s\tremaining: 4m 36s\n",
            "449:\tlearn: 0.0094111\ttotal: 3m 45s\tremaining: 4m 36s\n",
            "450:\tlearn: 0.0094093\ttotal: 3m 46s\tremaining: 4m 35s\n",
            "451:\tlearn: 0.0094070\ttotal: 3m 46s\tremaining: 4m 35s\n",
            "452:\tlearn: 0.0094055\ttotal: 3m 47s\tremaining: 4m 34s\n",
            "453:\tlearn: 0.0094025\ttotal: 3m 47s\tremaining: 4m 34s\n",
            "454:\tlearn: 0.0094004\ttotal: 3m 48s\tremaining: 4m 33s\n",
            "455:\tlearn: 0.0093984\ttotal: 3m 48s\tremaining: 4m 33s\n",
            "456:\tlearn: 0.0093960\ttotal: 3m 49s\tremaining: 4m 32s\n",
            "457:\tlearn: 0.0093912\ttotal: 3m 49s\tremaining: 4m 32s\n",
            "458:\tlearn: 0.0093895\ttotal: 3m 50s\tremaining: 4m 31s\n",
            "459:\tlearn: 0.0093873\ttotal: 3m 51s\tremaining: 4m 31s\n",
            "460:\tlearn: 0.0093845\ttotal: 3m 51s\tremaining: 4m 30s\n",
            "461:\tlearn: 0.0093836\ttotal: 3m 52s\tremaining: 4m 30s\n",
            "462:\tlearn: 0.0093810\ttotal: 3m 52s\tremaining: 4m 29s\n",
            "463:\tlearn: 0.0093788\ttotal: 3m 53s\tremaining: 4m 29s\n",
            "464:\tlearn: 0.0093748\ttotal: 3m 53s\tremaining: 4m 28s\n",
            "465:\tlearn: 0.0093729\ttotal: 3m 54s\tremaining: 4m 28s\n",
            "466:\tlearn: 0.0093703\ttotal: 3m 54s\tremaining: 4m 27s\n",
            "467:\tlearn: 0.0093684\ttotal: 3m 55s\tremaining: 4m 27s\n",
            "468:\tlearn: 0.0093648\ttotal: 3m 55s\tremaining: 4m 26s\n",
            "469:\tlearn: 0.0093633\ttotal: 3m 56s\tremaining: 4m 26s\n",
            "470:\tlearn: 0.0093617\ttotal: 3m 56s\tremaining: 4m 25s\n",
            "471:\tlearn: 0.0093596\ttotal: 3m 57s\tremaining: 4m 25s\n",
            "472:\tlearn: 0.0093570\ttotal: 3m 57s\tremaining: 4m 25s\n",
            "473:\tlearn: 0.0093552\ttotal: 3m 58s\tremaining: 4m 24s\n",
            "474:\tlearn: 0.0093522\ttotal: 3m 58s\tremaining: 4m 24s\n",
            "475:\tlearn: 0.0093505\ttotal: 3m 59s\tremaining: 4m 23s\n",
            "476:\tlearn: 0.0093455\ttotal: 3m 59s\tremaining: 4m 23s\n",
            "477:\tlearn: 0.0093438\ttotal: 4m\tremaining: 4m 22s\n",
            "478:\tlearn: 0.0093420\ttotal: 4m\tremaining: 4m 22s\n",
            "479:\tlearn: 0.0093408\ttotal: 4m 1s\tremaining: 4m 21s\n",
            "480:\tlearn: 0.0093391\ttotal: 4m 1s\tremaining: 4m 21s\n",
            "481:\tlearn: 0.0093358\ttotal: 4m 2s\tremaining: 4m 20s\n",
            "482:\tlearn: 0.0093342\ttotal: 4m 2s\tremaining: 4m 19s\n",
            "483:\tlearn: 0.0093335\ttotal: 4m 3s\tremaining: 4m 19s\n",
            "484:\tlearn: 0.0093308\ttotal: 4m 3s\tremaining: 4m 18s\n",
            "485:\tlearn: 0.0093295\ttotal: 4m 4s\tremaining: 4m 18s\n",
            "486:\tlearn: 0.0093269\ttotal: 4m 4s\tremaining: 4m 17s\n",
            "487:\tlearn: 0.0093251\ttotal: 4m 5s\tremaining: 4m 17s\n",
            "488:\tlearn: 0.0093226\ttotal: 4m 5s\tremaining: 4m 16s\n",
            "489:\tlearn: 0.0093202\ttotal: 4m 6s\tremaining: 4m 16s\n",
            "490:\tlearn: 0.0093186\ttotal: 4m 6s\tremaining: 4m 15s\n",
            "491:\tlearn: 0.0093164\ttotal: 4m 7s\tremaining: 4m 15s\n",
            "492:\tlearn: 0.0093130\ttotal: 4m 7s\tremaining: 4m 14s\n",
            "493:\tlearn: 0.0093114\ttotal: 4m 8s\tremaining: 4m 14s\n",
            "494:\tlearn: 0.0093097\ttotal: 4m 8s\tremaining: 4m 13s\n",
            "495:\tlearn: 0.0093061\ttotal: 4m 9s\tremaining: 4m 13s\n",
            "496:\tlearn: 0.0093045\ttotal: 4m 9s\tremaining: 4m 12s\n",
            "497:\tlearn: 0.0093022\ttotal: 4m 10s\tremaining: 4m 12s\n",
            "498:\tlearn: 0.0092989\ttotal: 4m 10s\tremaining: 4m 11s\n",
            "499:\tlearn: 0.0092973\ttotal: 4m 11s\tremaining: 4m 11s\n",
            "500:\tlearn: 0.0092959\ttotal: 4m 11s\tremaining: 4m 10s\n",
            "501:\tlearn: 0.0092935\ttotal: 4m 12s\tremaining: 4m 10s\n",
            "502:\tlearn: 0.0092923\ttotal: 4m 12s\tremaining: 4m 9s\n",
            "503:\tlearn: 0.0092910\ttotal: 4m 13s\tremaining: 4m 9s\n",
            "504:\tlearn: 0.0092889\ttotal: 4m 13s\tremaining: 4m 8s\n",
            "505:\tlearn: 0.0092876\ttotal: 4m 14s\tremaining: 4m 8s\n",
            "506:\tlearn: 0.0092855\ttotal: 4m 14s\tremaining: 4m 7s\n",
            "507:\tlearn: 0.0092833\ttotal: 4m 15s\tremaining: 4m 7s\n",
            "508:\tlearn: 0.0092822\ttotal: 4m 15s\tremaining: 4m 6s\n",
            "509:\tlearn: 0.0092810\ttotal: 4m 16s\tremaining: 4m 6s\n",
            "510:\tlearn: 0.0092798\ttotal: 4m 16s\tremaining: 4m 5s\n",
            "511:\tlearn: 0.0092779\ttotal: 4m 17s\tremaining: 4m 5s\n",
            "512:\tlearn: 0.0092766\ttotal: 4m 17s\tremaining: 4m 4s\n",
            "513:\tlearn: 0.0092736\ttotal: 4m 18s\tremaining: 4m 3s\n",
            "514:\tlearn: 0.0092713\ttotal: 4m 18s\tremaining: 4m 3s\n",
            "515:\tlearn: 0.0092692\ttotal: 4m 19s\tremaining: 4m 2s\n",
            "516:\tlearn: 0.0092678\ttotal: 4m 19s\tremaining: 4m 2s\n",
            "517:\tlearn: 0.0092632\ttotal: 4m 20s\tremaining: 4m 1s\n",
            "518:\tlearn: 0.0092615\ttotal: 4m 20s\tremaining: 4m 1s\n",
            "519:\tlearn: 0.0092605\ttotal: 4m 21s\tremaining: 4m 1s\n",
            "520:\tlearn: 0.0092578\ttotal: 4m 21s\tremaining: 4m\n",
            "521:\tlearn: 0.0092537\ttotal: 4m 22s\tremaining: 3m 59s\n",
            "522:\tlearn: 0.0092523\ttotal: 4m 22s\tremaining: 3m 59s\n",
            "523:\tlearn: 0.0092499\ttotal: 4m 23s\tremaining: 3m 59s\n",
            "524:\tlearn: 0.0092491\ttotal: 4m 23s\tremaining: 3m 58s\n",
            "525:\tlearn: 0.0092480\ttotal: 4m 24s\tremaining: 3m 58s\n",
            "526:\tlearn: 0.0092459\ttotal: 4m 24s\tremaining: 3m 57s\n",
            "527:\tlearn: 0.0092443\ttotal: 4m 25s\tremaining: 3m 57s\n",
            "528:\tlearn: 0.0092426\ttotal: 4m 25s\tremaining: 3m 56s\n",
            "529:\tlearn: 0.0092406\ttotal: 4m 26s\tremaining: 3m 56s\n",
            "530:\tlearn: 0.0092389\ttotal: 4m 26s\tremaining: 3m 55s\n",
            "531:\tlearn: 0.0092372\ttotal: 4m 27s\tremaining: 3m 55s\n",
            "532:\tlearn: 0.0092347\ttotal: 4m 27s\tremaining: 3m 54s\n",
            "533:\tlearn: 0.0092342\ttotal: 4m 28s\tremaining: 3m 54s\n",
            "534:\tlearn: 0.0092334\ttotal: 4m 28s\tremaining: 3m 53s\n",
            "535:\tlearn: 0.0092300\ttotal: 4m 29s\tremaining: 3m 53s\n",
            "536:\tlearn: 0.0092272\ttotal: 4m 29s\tremaining: 3m 52s\n",
            "537:\tlearn: 0.0092256\ttotal: 4m 30s\tremaining: 3m 52s\n",
            "538:\tlearn: 0.0092230\ttotal: 4m 30s\tremaining: 3m 51s\n",
            "539:\tlearn: 0.0092203\ttotal: 4m 31s\tremaining: 3m 51s\n",
            "540:\tlearn: 0.0092185\ttotal: 4m 31s\tremaining: 3m 50s\n",
            "541:\tlearn: 0.0092156\ttotal: 4m 32s\tremaining: 3m 50s\n",
            "542:\tlearn: 0.0092133\ttotal: 4m 32s\tremaining: 3m 49s\n",
            "543:\tlearn: 0.0092122\ttotal: 4m 33s\tremaining: 3m 49s\n",
            "544:\tlearn: 0.0092112\ttotal: 4m 33s\tremaining: 3m 48s\n",
            "545:\tlearn: 0.0092094\ttotal: 4m 34s\tremaining: 3m 48s\n",
            "546:\tlearn: 0.0092075\ttotal: 4m 34s\tremaining: 3m 47s\n",
            "547:\tlearn: 0.0092057\ttotal: 4m 35s\tremaining: 3m 47s\n",
            "548:\tlearn: 0.0092046\ttotal: 4m 35s\tremaining: 3m 46s\n",
            "549:\tlearn: 0.0092026\ttotal: 4m 36s\tremaining: 3m 46s\n",
            "550:\tlearn: 0.0092016\ttotal: 4m 36s\tremaining: 3m 45s\n",
            "551:\tlearn: 0.0091999\ttotal: 4m 37s\tremaining: 3m 45s\n",
            "552:\tlearn: 0.0091984\ttotal: 4m 37s\tremaining: 3m 44s\n",
            "553:\tlearn: 0.0091971\ttotal: 4m 38s\tremaining: 3m 44s\n",
            "554:\tlearn: 0.0091945\ttotal: 4m 38s\tremaining: 3m 43s\n",
            "555:\tlearn: 0.0091935\ttotal: 4m 39s\tremaining: 3m 43s\n",
            "556:\tlearn: 0.0091910\ttotal: 4m 39s\tremaining: 3m 42s\n",
            "557:\tlearn: 0.0091880\ttotal: 4m 40s\tremaining: 3m 42s\n",
            "558:\tlearn: 0.0091869\ttotal: 4m 40s\tremaining: 3m 41s\n",
            "559:\tlearn: 0.0091848\ttotal: 4m 41s\tremaining: 3m 41s\n",
            "560:\tlearn: 0.0091830\ttotal: 4m 41s\tremaining: 3m 40s\n",
            "561:\tlearn: 0.0091817\ttotal: 4m 42s\tremaining: 3m 40s\n",
            "562:\tlearn: 0.0091793\ttotal: 4m 42s\tremaining: 3m 39s\n",
            "563:\tlearn: 0.0091776\ttotal: 4m 43s\tremaining: 3m 39s\n",
            "564:\tlearn: 0.0091756\ttotal: 4m 43s\tremaining: 3m 38s\n",
            "565:\tlearn: 0.0091740\ttotal: 4m 44s\tremaining: 3m 38s\n",
            "566:\tlearn: 0.0091730\ttotal: 4m 44s\tremaining: 3m 37s\n",
            "567:\tlearn: 0.0091717\ttotal: 4m 45s\tremaining: 3m 36s\n",
            "568:\tlearn: 0.0091690\ttotal: 4m 45s\tremaining: 3m 36s\n",
            "569:\tlearn: 0.0091679\ttotal: 4m 46s\tremaining: 3m 36s\n",
            "570:\tlearn: 0.0091649\ttotal: 4m 46s\tremaining: 3m 35s\n",
            "571:\tlearn: 0.0091631\ttotal: 4m 47s\tremaining: 3m 35s\n",
            "572:\tlearn: 0.0091613\ttotal: 4m 47s\tremaining: 3m 34s\n",
            "573:\tlearn: 0.0091599\ttotal: 4m 48s\tremaining: 3m 33s\n",
            "574:\tlearn: 0.0091578\ttotal: 4m 48s\tremaining: 3m 33s\n",
            "575:\tlearn: 0.0091555\ttotal: 4m 49s\tremaining: 3m 32s\n",
            "576:\tlearn: 0.0091537\ttotal: 4m 49s\tremaining: 3m 32s\n",
            "577:\tlearn: 0.0091529\ttotal: 4m 50s\tremaining: 3m 31s\n",
            "578:\tlearn: 0.0091521\ttotal: 4m 50s\tremaining: 3m 31s\n",
            "579:\tlearn: 0.0091505\ttotal: 4m 51s\tremaining: 3m 30s\n",
            "580:\tlearn: 0.0091491\ttotal: 4m 51s\tremaining: 3m 30s\n",
            "581:\tlearn: 0.0091477\ttotal: 4m 52s\tremaining: 3m 29s\n",
            "582:\tlearn: 0.0091465\ttotal: 4m 52s\tremaining: 3m 29s\n",
            "583:\tlearn: 0.0091451\ttotal: 4m 53s\tremaining: 3m 28s\n",
            "584:\tlearn: 0.0091438\ttotal: 4m 53s\tremaining: 3m 28s\n",
            "585:\tlearn: 0.0091426\ttotal: 4m 54s\tremaining: 3m 27s\n",
            "586:\tlearn: 0.0091406\ttotal: 4m 54s\tremaining: 3m 27s\n",
            "587:\tlearn: 0.0091391\ttotal: 4m 55s\tremaining: 3m 26s\n",
            "588:\tlearn: 0.0091378\ttotal: 4m 55s\tremaining: 3m 26s\n",
            "589:\tlearn: 0.0091359\ttotal: 4m 56s\tremaining: 3m 25s\n",
            "590:\tlearn: 0.0091332\ttotal: 4m 56s\tremaining: 3m 25s\n",
            "591:\tlearn: 0.0091321\ttotal: 4m 57s\tremaining: 3m 24s\n",
            "592:\tlearn: 0.0091300\ttotal: 4m 57s\tremaining: 3m 24s\n",
            "593:\tlearn: 0.0091277\ttotal: 4m 58s\tremaining: 3m 23s\n",
            "594:\tlearn: 0.0091263\ttotal: 4m 58s\tremaining: 3m 23s\n",
            "595:\tlearn: 0.0091246\ttotal: 4m 59s\tremaining: 3m 22s\n",
            "596:\tlearn: 0.0091236\ttotal: 4m 59s\tremaining: 3m 22s\n",
            "597:\tlearn: 0.0091220\ttotal: 5m\tremaining: 3m 21s\n",
            "598:\tlearn: 0.0091204\ttotal: 5m\tremaining: 3m 21s\n",
            "599:\tlearn: 0.0091188\ttotal: 5m 1s\tremaining: 3m 20s\n",
            "600:\tlearn: 0.0091169\ttotal: 5m 1s\tremaining: 3m 20s\n",
            "601:\tlearn: 0.0091153\ttotal: 5m 2s\tremaining: 3m 19s\n",
            "602:\tlearn: 0.0091134\ttotal: 5m 2s\tremaining: 3m 19s\n",
            "603:\tlearn: 0.0091126\ttotal: 5m 3s\tremaining: 3m 18s\n",
            "604:\tlearn: 0.0091111\ttotal: 5m 3s\tremaining: 3m 18s\n",
            "605:\tlearn: 0.0091080\ttotal: 5m 4s\tremaining: 3m 17s\n",
            "606:\tlearn: 0.0091062\ttotal: 5m 4s\tremaining: 3m 17s\n",
            "607:\tlearn: 0.0091048\ttotal: 5m 5s\tremaining: 3m 16s\n",
            "608:\tlearn: 0.0091042\ttotal: 5m 5s\tremaining: 3m 16s\n",
            "609:\tlearn: 0.0091018\ttotal: 5m 6s\tremaining: 3m 15s\n",
            "610:\tlearn: 0.0091010\ttotal: 5m 6s\tremaining: 3m 15s\n",
            "611:\tlearn: 0.0090998\ttotal: 5m 7s\tremaining: 3m 14s\n",
            "612:\tlearn: 0.0090982\ttotal: 5m 7s\tremaining: 3m 14s\n",
            "613:\tlearn: 0.0090974\ttotal: 5m 8s\tremaining: 3m 13s\n",
            "614:\tlearn: 0.0090957\ttotal: 5m 8s\tremaining: 3m 13s\n",
            "615:\tlearn: 0.0090935\ttotal: 5m 9s\tremaining: 3m 12s\n",
            "616:\tlearn: 0.0090920\ttotal: 5m 9s\tremaining: 3m 12s\n",
            "617:\tlearn: 0.0090894\ttotal: 5m 10s\tremaining: 3m 11s\n",
            "618:\tlearn: 0.0090880\ttotal: 5m 10s\tremaining: 3m 11s\n",
            "619:\tlearn: 0.0090856\ttotal: 5m 11s\tremaining: 3m 10s\n",
            "620:\tlearn: 0.0090837\ttotal: 5m 11s\tremaining: 3m 10s\n",
            "621:\tlearn: 0.0090816\ttotal: 5m 12s\tremaining: 3m 9s\n",
            "622:\tlearn: 0.0090795\ttotal: 5m 12s\tremaining: 3m 9s\n",
            "623:\tlearn: 0.0090770\ttotal: 5m 13s\tremaining: 3m 8s\n",
            "624:\tlearn: 0.0090740\ttotal: 5m 13s\tremaining: 3m 8s\n",
            "625:\tlearn: 0.0090734\ttotal: 5m 14s\tremaining: 3m 7s\n",
            "626:\tlearn: 0.0090723\ttotal: 5m 14s\tremaining: 3m 7s\n",
            "627:\tlearn: 0.0090708\ttotal: 5m 15s\tremaining: 3m 6s\n",
            "628:\tlearn: 0.0090685\ttotal: 5m 15s\tremaining: 3m 6s\n",
            "629:\tlearn: 0.0090676\ttotal: 5m 16s\tremaining: 3m 5s\n",
            "630:\tlearn: 0.0090651\ttotal: 5m 16s\tremaining: 3m 5s\n",
            "631:\tlearn: 0.0090640\ttotal: 5m 17s\tremaining: 3m 4s\n",
            "632:\tlearn: 0.0090625\ttotal: 5m 17s\tremaining: 3m 4s\n",
            "633:\tlearn: 0.0090607\ttotal: 5m 18s\tremaining: 3m 3s\n",
            "634:\tlearn: 0.0090583\ttotal: 5m 18s\tremaining: 3m 3s\n",
            "635:\tlearn: 0.0090568\ttotal: 5m 19s\tremaining: 3m 2s\n",
            "636:\tlearn: 0.0090551\ttotal: 5m 19s\tremaining: 3m 2s\n",
            "637:\tlearn: 0.0090538\ttotal: 5m 20s\tremaining: 3m 1s\n",
            "638:\tlearn: 0.0090526\ttotal: 5m 20s\tremaining: 3m 1s\n",
            "639:\tlearn: 0.0090514\ttotal: 5m 21s\tremaining: 3m\n",
            "640:\tlearn: 0.0090500\ttotal: 5m 21s\tremaining: 3m\n",
            "641:\tlearn: 0.0090485\ttotal: 5m 22s\tremaining: 2m 59s\n",
            "642:\tlearn: 0.0090477\ttotal: 5m 22s\tremaining: 2m 59s\n",
            "643:\tlearn: 0.0090469\ttotal: 5m 23s\tremaining: 2m 58s\n",
            "644:\tlearn: 0.0090449\ttotal: 5m 23s\tremaining: 2m 58s\n",
            "645:\tlearn: 0.0090439\ttotal: 5m 24s\tremaining: 2m 57s\n",
            "646:\tlearn: 0.0090413\ttotal: 5m 24s\tremaining: 2m 57s\n",
            "647:\tlearn: 0.0090397\ttotal: 5m 25s\tremaining: 2m 56s\n",
            "648:\tlearn: 0.0090382\ttotal: 5m 25s\tremaining: 2m 56s\n",
            "649:\tlearn: 0.0090377\ttotal: 5m 26s\tremaining: 2m 55s\n",
            "650:\tlearn: 0.0090365\ttotal: 5m 26s\tremaining: 2m 55s\n",
            "651:\tlearn: 0.0090357\ttotal: 5m 27s\tremaining: 2m 54s\n",
            "652:\tlearn: 0.0090343\ttotal: 5m 28s\tremaining: 2m 54s\n",
            "653:\tlearn: 0.0090338\ttotal: 5m 28s\tremaining: 2m 53s\n",
            "654:\tlearn: 0.0090321\ttotal: 5m 29s\tremaining: 2m 53s\n",
            "655:\tlearn: 0.0090315\ttotal: 5m 29s\tremaining: 2m 52s\n",
            "656:\tlearn: 0.0090300\ttotal: 5m 30s\tremaining: 2m 52s\n",
            "657:\tlearn: 0.0090278\ttotal: 5m 30s\tremaining: 2m 51s\n",
            "658:\tlearn: 0.0090271\ttotal: 5m 31s\tremaining: 2m 51s\n",
            "659:\tlearn: 0.0090260\ttotal: 5m 31s\tremaining: 2m 50s\n",
            "660:\tlearn: 0.0090230\ttotal: 5m 32s\tremaining: 2m 50s\n",
            "661:\tlearn: 0.0090222\ttotal: 5m 32s\tremaining: 2m 49s\n",
            "662:\tlearn: 0.0090210\ttotal: 5m 33s\tremaining: 2m 49s\n",
            "663:\tlearn: 0.0090198\ttotal: 5m 33s\tremaining: 2m 48s\n",
            "664:\tlearn: 0.0090181\ttotal: 5m 34s\tremaining: 2m 48s\n",
            "665:\tlearn: 0.0090168\ttotal: 5m 34s\tremaining: 2m 47s\n",
            "666:\tlearn: 0.0090159\ttotal: 5m 35s\tremaining: 2m 47s\n",
            "667:\tlearn: 0.0090149\ttotal: 5m 35s\tremaining: 2m 46s\n",
            "668:\tlearn: 0.0090129\ttotal: 5m 36s\tremaining: 2m 46s\n",
            "669:\tlearn: 0.0090111\ttotal: 5m 36s\tremaining: 2m 45s\n",
            "670:\tlearn: 0.0090101\ttotal: 5m 37s\tremaining: 2m 45s\n",
            "671:\tlearn: 0.0090089\ttotal: 5m 37s\tremaining: 2m 44s\n",
            "672:\tlearn: 0.0090078\ttotal: 5m 38s\tremaining: 2m 44s\n",
            "673:\tlearn: 0.0090066\ttotal: 5m 38s\tremaining: 2m 43s\n",
            "674:\tlearn: 0.0090054\ttotal: 5m 39s\tremaining: 2m 43s\n",
            "675:\tlearn: 0.0090047\ttotal: 5m 39s\tremaining: 2m 42s\n",
            "676:\tlearn: 0.0090030\ttotal: 5m 40s\tremaining: 2m 42s\n",
            "677:\tlearn: 0.0090016\ttotal: 5m 40s\tremaining: 2m 41s\n",
            "678:\tlearn: 0.0090012\ttotal: 5m 41s\tremaining: 2m 41s\n",
            "679:\tlearn: 0.0089990\ttotal: 5m 42s\tremaining: 2m 40s\n",
            "680:\tlearn: 0.0089976\ttotal: 5m 42s\tremaining: 2m 40s\n",
            "681:\tlearn: 0.0089963\ttotal: 5m 42s\tremaining: 2m 39s\n",
            "682:\tlearn: 0.0089922\ttotal: 5m 43s\tremaining: 2m 39s\n",
            "683:\tlearn: 0.0089898\ttotal: 5m 43s\tremaining: 2m 38s\n",
            "684:\tlearn: 0.0089887\ttotal: 5m 44s\tremaining: 2m 38s\n",
            "685:\tlearn: 0.0089876\ttotal: 5m 44s\tremaining: 2m 37s\n",
            "686:\tlearn: 0.0089841\ttotal: 5m 45s\tremaining: 2m 37s\n",
            "687:\tlearn: 0.0089827\ttotal: 5m 45s\tremaining: 2m 36s\n",
            "688:\tlearn: 0.0089819\ttotal: 5m 46s\tremaining: 2m 36s\n",
            "689:\tlearn: 0.0089809\ttotal: 5m 46s\tremaining: 2m 35s\n",
            "690:\tlearn: 0.0089794\ttotal: 5m 47s\tremaining: 2m 35s\n",
            "691:\tlearn: 0.0089774\ttotal: 5m 47s\tremaining: 2m 34s\n",
            "692:\tlearn: 0.0089758\ttotal: 5m 48s\tremaining: 2m 34s\n",
            "693:\tlearn: 0.0089748\ttotal: 5m 48s\tremaining: 2m 33s\n",
            "694:\tlearn: 0.0089729\ttotal: 5m 48s\tremaining: 2m 33s\n",
            "695:\tlearn: 0.0089713\ttotal: 5m 49s\tremaining: 2m 32s\n",
            "696:\tlearn: 0.0089692\ttotal: 5m 49s\tremaining: 2m 32s\n",
            "697:\tlearn: 0.0089682\ttotal: 5m 50s\tremaining: 2m 31s\n",
            "698:\tlearn: 0.0089676\ttotal: 5m 50s\tremaining: 2m 30s\n",
            "699:\tlearn: 0.0089657\ttotal: 5m 50s\tremaining: 2m 30s\n",
            "700:\tlearn: 0.0089634\ttotal: 5m 51s\tremaining: 2m 29s\n",
            "701:\tlearn: 0.0089628\ttotal: 5m 52s\tremaining: 2m 29s\n",
            "702:\tlearn: 0.0089607\ttotal: 5m 52s\tremaining: 2m 28s\n",
            "703:\tlearn: 0.0089597\ttotal: 5m 53s\tremaining: 2m 28s\n",
            "704:\tlearn: 0.0089588\ttotal: 5m 53s\tremaining: 2m 27s\n",
            "705:\tlearn: 0.0089570\ttotal: 5m 54s\tremaining: 2m 27s\n",
            "706:\tlearn: 0.0089561\ttotal: 5m 54s\tremaining: 2m 26s\n",
            "707:\tlearn: 0.0089544\ttotal: 5m 55s\tremaining: 2m 26s\n",
            "708:\tlearn: 0.0089520\ttotal: 5m 55s\tremaining: 2m 25s\n",
            "709:\tlearn: 0.0089512\ttotal: 5m 56s\tremaining: 2m 25s\n",
            "710:\tlearn: 0.0089499\ttotal: 5m 56s\tremaining: 2m 24s\n",
            "711:\tlearn: 0.0089479\ttotal: 5m 56s\tremaining: 2m 24s\n",
            "712:\tlearn: 0.0089469\ttotal: 5m 57s\tremaining: 2m 23s\n",
            "713:\tlearn: 0.0089461\ttotal: 5m 57s\tremaining: 2m 23s\n",
            "714:\tlearn: 0.0089450\ttotal: 5m 58s\tremaining: 2m 22s\n",
            "715:\tlearn: 0.0089432\ttotal: 5m 58s\tremaining: 2m 22s\n",
            "716:\tlearn: 0.0089415\ttotal: 5m 59s\tremaining: 2m 21s\n",
            "717:\tlearn: 0.0089407\ttotal: 5m 59s\tremaining: 2m 21s\n",
            "718:\tlearn: 0.0089396\ttotal: 6m\tremaining: 2m 20s\n",
            "719:\tlearn: 0.0089389\ttotal: 6m\tremaining: 2m 20s\n",
            "720:\tlearn: 0.0089379\ttotal: 6m 1s\tremaining: 2m 19s\n",
            "721:\tlearn: 0.0089363\ttotal: 6m 1s\tremaining: 2m 19s\n",
            "722:\tlearn: 0.0089354\ttotal: 6m 2s\tremaining: 2m 18s\n",
            "723:\tlearn: 0.0089342\ttotal: 6m 2s\tremaining: 2m 18s\n",
            "724:\tlearn: 0.0089328\ttotal: 6m 3s\tremaining: 2m 17s\n",
            "725:\tlearn: 0.0089316\ttotal: 6m 3s\tremaining: 2m 17s\n",
            "726:\tlearn: 0.0089302\ttotal: 6m 4s\tremaining: 2m 16s\n",
            "727:\tlearn: 0.0089290\ttotal: 6m 4s\tremaining: 2m 16s\n",
            "728:\tlearn: 0.0089277\ttotal: 6m 5s\tremaining: 2m 15s\n",
            "729:\tlearn: 0.0089263\ttotal: 6m 5s\tremaining: 2m 15s\n",
            "730:\tlearn: 0.0089244\ttotal: 6m 6s\tremaining: 2m 14s\n",
            "731:\tlearn: 0.0089234\ttotal: 6m 6s\tremaining: 2m 14s\n",
            "732:\tlearn: 0.0089227\ttotal: 6m 7s\tremaining: 2m 13s\n",
            "733:\tlearn: 0.0089214\ttotal: 6m 7s\tremaining: 2m 13s\n",
            "734:\tlearn: 0.0089196\ttotal: 6m 8s\tremaining: 2m 12s\n",
            "735:\tlearn: 0.0089165\ttotal: 6m 9s\tremaining: 2m 12s\n",
            "736:\tlearn: 0.0089156\ttotal: 6m 9s\tremaining: 2m 11s\n",
            "737:\tlearn: 0.0089147\ttotal: 6m 10s\tremaining: 2m 11s\n",
            "738:\tlearn: 0.0089139\ttotal: 6m 10s\tremaining: 2m 10s\n",
            "739:\tlearn: 0.0089130\ttotal: 6m 11s\tremaining: 2m 10s\n",
            "740:\tlearn: 0.0089123\ttotal: 6m 11s\tremaining: 2m 9s\n",
            "741:\tlearn: 0.0089116\ttotal: 6m 12s\tremaining: 2m 9s\n",
            "742:\tlearn: 0.0089107\ttotal: 6m 12s\tremaining: 2m 8s\n",
            "743:\tlearn: 0.0089100\ttotal: 6m 13s\tremaining: 2m 8s\n",
            "744:\tlearn: 0.0089074\ttotal: 6m 13s\tremaining: 2m 7s\n",
            "745:\tlearn: 0.0089071\ttotal: 6m 14s\tremaining: 2m 7s\n",
            "746:\tlearn: 0.0089056\ttotal: 6m 14s\tremaining: 2m 6s\n",
            "747:\tlearn: 0.0089035\ttotal: 6m 15s\tremaining: 2m 6s\n",
            "748:\tlearn: 0.0089012\ttotal: 6m 15s\tremaining: 2m 5s\n",
            "749:\tlearn: 0.0088999\ttotal: 6m 16s\tremaining: 2m 5s\n",
            "750:\tlearn: 0.0088986\ttotal: 6m 16s\tremaining: 2m 4s\n",
            "751:\tlearn: 0.0088978\ttotal: 6m 17s\tremaining: 2m 4s\n",
            "752:\tlearn: 0.0088972\ttotal: 6m 17s\tremaining: 2m 3s\n",
            "753:\tlearn: 0.0088963\ttotal: 6m 18s\tremaining: 2m 3s\n",
            "754:\tlearn: 0.0088945\ttotal: 6m 18s\tremaining: 2m 2s\n",
            "755:\tlearn: 0.0088940\ttotal: 6m 19s\tremaining: 2m 2s\n",
            "756:\tlearn: 0.0088930\ttotal: 6m 19s\tremaining: 2m 1s\n",
            "757:\tlearn: 0.0088921\ttotal: 6m 20s\tremaining: 2m 1s\n",
            "758:\tlearn: 0.0088906\ttotal: 6m 20s\tremaining: 2m\n",
            "759:\tlearn: 0.0088885\ttotal: 6m 21s\tremaining: 2m\n",
            "760:\tlearn: 0.0088880\ttotal: 6m 21s\tremaining: 1m 59s\n",
            "761:\tlearn: 0.0088865\ttotal: 6m 22s\tremaining: 1m 59s\n",
            "762:\tlearn: 0.0088860\ttotal: 6m 22s\tremaining: 1m 58s\n",
            "763:\tlearn: 0.0088850\ttotal: 6m 22s\tremaining: 1m 58s\n",
            "764:\tlearn: 0.0088835\ttotal: 6m 23s\tremaining: 1m 57s\n",
            "765:\tlearn: 0.0088828\ttotal: 6m 23s\tremaining: 1m 57s\n",
            "766:\tlearn: 0.0088814\ttotal: 6m 24s\tremaining: 1m 56s\n",
            "767:\tlearn: 0.0088805\ttotal: 6m 24s\tremaining: 1m 56s\n",
            "768:\tlearn: 0.0088798\ttotal: 6m 25s\tremaining: 1m 55s\n",
            "769:\tlearn: 0.0088777\ttotal: 6m 25s\tremaining: 1m 55s\n",
            "770:\tlearn: 0.0088764\ttotal: 6m 26s\tremaining: 1m 54s\n",
            "771:\tlearn: 0.0088758\ttotal: 6m 26s\tremaining: 1m 54s\n",
            "772:\tlearn: 0.0088746\ttotal: 6m 27s\tremaining: 1m 53s\n",
            "773:\tlearn: 0.0088735\ttotal: 6m 27s\tremaining: 1m 53s\n",
            "774:\tlearn: 0.0088729\ttotal: 6m 28s\tremaining: 1m 52s\n",
            "775:\tlearn: 0.0088722\ttotal: 6m 28s\tremaining: 1m 52s\n",
            "776:\tlearn: 0.0088713\ttotal: 6m 29s\tremaining: 1m 51s\n",
            "777:\tlearn: 0.0088703\ttotal: 6m 29s\tremaining: 1m 51s\n",
            "778:\tlearn: 0.0088680\ttotal: 6m 30s\tremaining: 1m 50s\n",
            "779:\tlearn: 0.0088668\ttotal: 6m 30s\tremaining: 1m 50s\n",
            "780:\tlearn: 0.0088656\ttotal: 6m 31s\tremaining: 1m 49s\n",
            "781:\tlearn: 0.0088648\ttotal: 6m 31s\tremaining: 1m 49s\n",
            "782:\tlearn: 0.0088635\ttotal: 6m 32s\tremaining: 1m 48s\n",
            "783:\tlearn: 0.0088629\ttotal: 6m 32s\tremaining: 1m 48s\n",
            "784:\tlearn: 0.0088623\ttotal: 6m 33s\tremaining: 1m 47s\n",
            "785:\tlearn: 0.0088612\ttotal: 6m 33s\tremaining: 1m 47s\n",
            "786:\tlearn: 0.0088605\ttotal: 6m 34s\tremaining: 1m 46s\n",
            "787:\tlearn: 0.0088584\ttotal: 6m 34s\tremaining: 1m 46s\n",
            "788:\tlearn: 0.0088573\ttotal: 6m 35s\tremaining: 1m 45s\n",
            "789:\tlearn: 0.0088563\ttotal: 6m 35s\tremaining: 1m 45s\n",
            "790:\tlearn: 0.0088537\ttotal: 6m 36s\tremaining: 1m 44s\n",
            "791:\tlearn: 0.0088522\ttotal: 6m 37s\tremaining: 1m 44s\n",
            "792:\tlearn: 0.0088511\ttotal: 6m 37s\tremaining: 1m 43s\n",
            "793:\tlearn: 0.0088505\ttotal: 6m 38s\tremaining: 1m 43s\n",
            "794:\tlearn: 0.0088495\ttotal: 6m 38s\tremaining: 1m 42s\n",
            "795:\tlearn: 0.0088488\ttotal: 6m 39s\tremaining: 1m 42s\n",
            "796:\tlearn: 0.0088480\ttotal: 6m 39s\tremaining: 1m 41s\n",
            "797:\tlearn: 0.0088472\ttotal: 6m 39s\tremaining: 1m 41s\n",
            "798:\tlearn: 0.0088451\ttotal: 6m 40s\tremaining: 1m 40s\n",
            "799:\tlearn: 0.0088445\ttotal: 6m 40s\tremaining: 1m 40s\n",
            "800:\tlearn: 0.0088429\ttotal: 6m 41s\tremaining: 1m 39s\n",
            "801:\tlearn: 0.0088411\ttotal: 6m 41s\tremaining: 1m 39s\n",
            "802:\tlearn: 0.0088407\ttotal: 6m 42s\tremaining: 1m 38s\n",
            "803:\tlearn: 0.0088394\ttotal: 6m 42s\tremaining: 1m 38s\n",
            "804:\tlearn: 0.0088386\ttotal: 6m 43s\tremaining: 1m 37s\n",
            "805:\tlearn: 0.0088368\ttotal: 6m 43s\tremaining: 1m 37s\n",
            "806:\tlearn: 0.0088352\ttotal: 6m 44s\tremaining: 1m 36s\n",
            "807:\tlearn: 0.0088342\ttotal: 6m 44s\tremaining: 1m 36s\n",
            "808:\tlearn: 0.0088330\ttotal: 6m 45s\tremaining: 1m 35s\n",
            "809:\tlearn: 0.0088316\ttotal: 6m 45s\tremaining: 1m 35s\n",
            "810:\tlearn: 0.0088302\ttotal: 6m 46s\tremaining: 1m 34s\n",
            "811:\tlearn: 0.0088294\ttotal: 6m 46s\tremaining: 1m 34s\n",
            "812:\tlearn: 0.0088283\ttotal: 6m 47s\tremaining: 1m 33s\n",
            "813:\tlearn: 0.0088282\ttotal: 6m 47s\tremaining: 1m 33s\n",
            "814:\tlearn: 0.0088275\ttotal: 6m 48s\tremaining: 1m 32s\n",
            "815:\tlearn: 0.0088271\ttotal: 6m 48s\tremaining: 1m 32s\n",
            "816:\tlearn: 0.0088258\ttotal: 6m 49s\tremaining: 1m 31s\n",
            "817:\tlearn: 0.0088237\ttotal: 6m 49s\tremaining: 1m 31s\n",
            "818:\tlearn: 0.0088222\ttotal: 6m 50s\tremaining: 1m 30s\n",
            "819:\tlearn: 0.0088207\ttotal: 6m 50s\tremaining: 1m 30s\n",
            "820:\tlearn: 0.0088192\ttotal: 6m 51s\tremaining: 1m 29s\n",
            "821:\tlearn: 0.0088179\ttotal: 6m 51s\tremaining: 1m 29s\n",
            "822:\tlearn: 0.0088169\ttotal: 6m 52s\tremaining: 1m 28s\n",
            "823:\tlearn: 0.0088160\ttotal: 6m 52s\tremaining: 1m 28s\n",
            "824:\tlearn: 0.0088143\ttotal: 6m 53s\tremaining: 1m 27s\n",
            "825:\tlearn: 0.0088125\ttotal: 6m 53s\tremaining: 1m 27s\n",
            "826:\tlearn: 0.0088110\ttotal: 6m 54s\tremaining: 1m 26s\n",
            "827:\tlearn: 0.0088095\ttotal: 6m 54s\tremaining: 1m 26s\n",
            "828:\tlearn: 0.0088089\ttotal: 6m 55s\tremaining: 1m 25s\n",
            "829:\tlearn: 0.0088087\ttotal: 6m 55s\tremaining: 1m 25s\n",
            "830:\tlearn: 0.0088082\ttotal: 6m 56s\tremaining: 1m 24s\n",
            "831:\tlearn: 0.0088070\ttotal: 6m 56s\tremaining: 1m 24s\n",
            "832:\tlearn: 0.0088056\ttotal: 6m 57s\tremaining: 1m 23s\n",
            "833:\tlearn: 0.0088043\ttotal: 6m 57s\tremaining: 1m 23s\n",
            "834:\tlearn: 0.0088030\ttotal: 6m 58s\tremaining: 1m 22s\n",
            "835:\tlearn: 0.0088012\ttotal: 6m 58s\tremaining: 1m 22s\n",
            "836:\tlearn: 0.0088004\ttotal: 6m 59s\tremaining: 1m 21s\n",
            "837:\tlearn: 0.0087988\ttotal: 6m 59s\tremaining: 1m 21s\n",
            "838:\tlearn: 0.0087972\ttotal: 7m\tremaining: 1m 20s\n",
            "839:\tlearn: 0.0087966\ttotal: 7m\tremaining: 1m 20s\n",
            "840:\tlearn: 0.0087951\ttotal: 7m 1s\tremaining: 1m 19s\n",
            "841:\tlearn: 0.0087942\ttotal: 7m 1s\tremaining: 1m 19s\n",
            "842:\tlearn: 0.0087935\ttotal: 7m 2s\tremaining: 1m 18s\n",
            "843:\tlearn: 0.0087926\ttotal: 7m 2s\tremaining: 1m 18s\n",
            "844:\tlearn: 0.0087918\ttotal: 7m 3s\tremaining: 1m 17s\n",
            "845:\tlearn: 0.0087913\ttotal: 7m 3s\tremaining: 1m 17s\n",
            "846:\tlearn: 0.0087892\ttotal: 7m 4s\tremaining: 1m 16s\n",
            "847:\tlearn: 0.0087879\ttotal: 7m 4s\tremaining: 1m 16s\n",
            "848:\tlearn: 0.0087871\ttotal: 7m 5s\tremaining: 1m 15s\n",
            "849:\tlearn: 0.0087866\ttotal: 7m 5s\tremaining: 1m 15s\n",
            "850:\tlearn: 0.0087862\ttotal: 7m 6s\tremaining: 1m 14s\n",
            "851:\tlearn: 0.0087851\ttotal: 7m 6s\tremaining: 1m 14s\n",
            "852:\tlearn: 0.0087846\ttotal: 7m 7s\tremaining: 1m 13s\n",
            "853:\tlearn: 0.0087830\ttotal: 7m 7s\tremaining: 1m 13s\n",
            "854:\tlearn: 0.0087821\ttotal: 7m 8s\tremaining: 1m 12s\n",
            "855:\tlearn: 0.0087817\ttotal: 7m 8s\tremaining: 1m 12s\n",
            "856:\tlearn: 0.0087802\ttotal: 7m 9s\tremaining: 1m 11s\n",
            "857:\tlearn: 0.0087791\ttotal: 7m 9s\tremaining: 1m 11s\n",
            "858:\tlearn: 0.0087787\ttotal: 7m 10s\tremaining: 1m 10s\n",
            "859:\tlearn: 0.0087779\ttotal: 7m 10s\tremaining: 1m 10s\n",
            "860:\tlearn: 0.0087771\ttotal: 7m 11s\tremaining: 1m 9s\n",
            "861:\tlearn: 0.0087762\ttotal: 7m 11s\tremaining: 1m 9s\n",
            "862:\tlearn: 0.0087749\ttotal: 7m 12s\tremaining: 1m 8s\n",
            "863:\tlearn: 0.0087739\ttotal: 7m 12s\tremaining: 1m 8s\n",
            "864:\tlearn: 0.0087734\ttotal: 7m 13s\tremaining: 1m 7s\n",
            "865:\tlearn: 0.0087721\ttotal: 7m 13s\tremaining: 1m 7s\n",
            "866:\tlearn: 0.0087718\ttotal: 7m 14s\tremaining: 1m 6s\n",
            "867:\tlearn: 0.0087703\ttotal: 7m 14s\tremaining: 1m 6s\n",
            "868:\tlearn: 0.0087690\ttotal: 7m 15s\tremaining: 1m 5s\n",
            "869:\tlearn: 0.0087669\ttotal: 7m 15s\tremaining: 1m 5s\n",
            "870:\tlearn: 0.0087665\ttotal: 7m 16s\tremaining: 1m 4s\n",
            "871:\tlearn: 0.0087653\ttotal: 7m 16s\tremaining: 1m 4s\n",
            "872:\tlearn: 0.0087644\ttotal: 7m 17s\tremaining: 1m 3s\n",
            "873:\tlearn: 0.0087630\ttotal: 7m 17s\tremaining: 1m 3s\n",
            "874:\tlearn: 0.0087620\ttotal: 7m 18s\tremaining: 1m 2s\n",
            "875:\tlearn: 0.0087613\ttotal: 7m 18s\tremaining: 1m 2s\n",
            "876:\tlearn: 0.0087600\ttotal: 7m 19s\tremaining: 1m 1s\n",
            "877:\tlearn: 0.0087598\ttotal: 7m 19s\tremaining: 1m 1s\n",
            "878:\tlearn: 0.0087590\ttotal: 7m 19s\tremaining: 1m\n",
            "879:\tlearn: 0.0087582\ttotal: 7m 20s\tremaining: 1m\n",
            "880:\tlearn: 0.0087573\ttotal: 7m 20s\tremaining: 59.6s\n",
            "881:\tlearn: 0.0087550\ttotal: 7m 21s\tremaining: 59s\n",
            "882:\tlearn: 0.0087544\ttotal: 7m 21s\tremaining: 58.5s\n",
            "883:\tlearn: 0.0087530\ttotal: 7m 22s\tremaining: 58s\n",
            "884:\tlearn: 0.0087525\ttotal: 7m 22s\tremaining: 57.5s\n",
            "885:\tlearn: 0.0087514\ttotal: 7m 23s\tremaining: 57s\n",
            "886:\tlearn: 0.0087504\ttotal: 7m 23s\tremaining: 56.5s\n",
            "887:\tlearn: 0.0087496\ttotal: 7m 24s\tremaining: 56s\n",
            "888:\tlearn: 0.0087477\ttotal: 7m 24s\tremaining: 55.5s\n",
            "889:\tlearn: 0.0087462\ttotal: 7m 25s\tremaining: 55s\n",
            "890:\tlearn: 0.0087453\ttotal: 7m 25s\tremaining: 54.5s\n",
            "891:\tlearn: 0.0087451\ttotal: 7m 26s\tremaining: 54s\n",
            "892:\tlearn: 0.0087439\ttotal: 7m 26s\tremaining: 53.5s\n",
            "893:\tlearn: 0.0087434\ttotal: 7m 27s\tremaining: 53s\n",
            "894:\tlearn: 0.0087428\ttotal: 7m 27s\tremaining: 52.5s\n",
            "895:\tlearn: 0.0087419\ttotal: 7m 28s\tremaining: 52s\n",
            "896:\tlearn: 0.0087407\ttotal: 7m 28s\tremaining: 51.5s\n",
            "897:\tlearn: 0.0087391\ttotal: 7m 29s\tremaining: 51s\n",
            "898:\tlearn: 0.0087382\ttotal: 7m 29s\tremaining: 50.5s\n",
            "899:\tlearn: 0.0087369\ttotal: 7m 30s\tremaining: 50s\n",
            "900:\tlearn: 0.0087361\ttotal: 7m 30s\tremaining: 49.5s\n",
            "901:\tlearn: 0.0087357\ttotal: 7m 31s\tremaining: 49s\n",
            "902:\tlearn: 0.0087343\ttotal: 7m 31s\tremaining: 48.5s\n",
            "903:\tlearn: 0.0087331\ttotal: 7m 32s\tremaining: 48s\n",
            "904:\tlearn: 0.0087322\ttotal: 7m 32s\tremaining: 47.5s\n",
            "905:\tlearn: 0.0087316\ttotal: 7m 33s\tremaining: 47s\n",
            "906:\tlearn: 0.0087313\ttotal: 7m 33s\tremaining: 46.5s\n",
            "907:\tlearn: 0.0087306\ttotal: 7m 34s\tremaining: 46s\n",
            "908:\tlearn: 0.0087296\ttotal: 7m 34s\tremaining: 45.5s\n",
            "909:\tlearn: 0.0087290\ttotal: 7m 35s\tremaining: 45s\n",
            "910:\tlearn: 0.0087284\ttotal: 7m 35s\tremaining: 44.5s\n",
            "911:\tlearn: 0.0087275\ttotal: 7m 36s\tremaining: 44s\n",
            "912:\tlearn: 0.0087263\ttotal: 7m 37s\tremaining: 43.5s\n",
            "913:\tlearn: 0.0087251\ttotal: 7m 37s\tremaining: 43.1s\n",
            "914:\tlearn: 0.0087230\ttotal: 7m 38s\tremaining: 42.6s\n",
            "915:\tlearn: 0.0087225\ttotal: 7m 38s\tremaining: 42.1s\n",
            "916:\tlearn: 0.0087221\ttotal: 7m 39s\tremaining: 41.6s\n",
            "917:\tlearn: 0.0087206\ttotal: 7m 39s\tremaining: 41.1s\n",
            "918:\tlearn: 0.0087197\ttotal: 7m 40s\tremaining: 40.6s\n",
            "919:\tlearn: 0.0087190\ttotal: 7m 40s\tremaining: 40.1s\n",
            "920:\tlearn: 0.0087186\ttotal: 7m 41s\tremaining: 39.5s\n",
            "921:\tlearn: 0.0087173\ttotal: 7m 41s\tremaining: 39s\n",
            "922:\tlearn: 0.0087162\ttotal: 7m 42s\tremaining: 38.5s\n",
            "923:\tlearn: 0.0087152\ttotal: 7m 42s\tremaining: 38s\n",
            "924:\tlearn: 0.0087144\ttotal: 7m 43s\tremaining: 37.5s\n",
            "925:\tlearn: 0.0087132\ttotal: 7m 43s\tremaining: 37s\n",
            "926:\tlearn: 0.0087121\ttotal: 7m 44s\tremaining: 36.5s\n",
            "927:\tlearn: 0.0087114\ttotal: 7m 44s\tremaining: 36s\n",
            "928:\tlearn: 0.0087108\ttotal: 7m 45s\tremaining: 35.5s\n",
            "929:\tlearn: 0.0087089\ttotal: 7m 45s\tremaining: 35s\n",
            "930:\tlearn: 0.0087075\ttotal: 7m 46s\tremaining: 34.5s\n",
            "931:\tlearn: 0.0087066\ttotal: 7m 46s\tremaining: 34s\n",
            "932:\tlearn: 0.0087058\ttotal: 7m 47s\tremaining: 33.5s\n",
            "933:\tlearn: 0.0087051\ttotal: 7m 47s\tremaining: 33s\n",
            "934:\tlearn: 0.0087045\ttotal: 7m 48s\tremaining: 32.5s\n",
            "935:\tlearn: 0.0087037\ttotal: 7m 48s\tremaining: 32s\n",
            "936:\tlearn: 0.0087030\ttotal: 7m 49s\tremaining: 31.5s\n",
            "937:\tlearn: 0.0087014\ttotal: 7m 49s\tremaining: 31s\n",
            "938:\tlearn: 0.0087008\ttotal: 7m 50s\tremaining: 30.5s\n",
            "939:\tlearn: 0.0087006\ttotal: 7m 50s\tremaining: 30s\n",
            "940:\tlearn: 0.0086994\ttotal: 7m 51s\tremaining: 29.5s\n",
            "941:\tlearn: 0.0086985\ttotal: 7m 51s\tremaining: 29s\n",
            "942:\tlearn: 0.0086974\ttotal: 7m 52s\tremaining: 28.5s\n",
            "943:\tlearn: 0.0086963\ttotal: 7m 52s\tremaining: 28s\n",
            "944:\tlearn: 0.0086958\ttotal: 7m 52s\tremaining: 27.5s\n",
            "945:\tlearn: 0.0086948\ttotal: 7m 53s\tremaining: 27s\n",
            "946:\tlearn: 0.0086942\ttotal: 7m 54s\tremaining: 26.5s\n",
            "947:\tlearn: 0.0086935\ttotal: 7m 54s\tremaining: 26s\n",
            "948:\tlearn: 0.0086930\ttotal: 7m 54s\tremaining: 25.5s\n",
            "949:\tlearn: 0.0086923\ttotal: 7m 55s\tremaining: 25s\n",
            "950:\tlearn: 0.0086910\ttotal: 7m 56s\tremaining: 24.5s\n",
            "951:\tlearn: 0.0086905\ttotal: 7m 56s\tremaining: 24s\n",
            "952:\tlearn: 0.0086889\ttotal: 7m 57s\tremaining: 23.5s\n",
            "953:\tlearn: 0.0086887\ttotal: 7m 57s\tremaining: 23s\n",
            "954:\tlearn: 0.0086872\ttotal: 7m 58s\tremaining: 22.5s\n",
            "955:\tlearn: 0.0086865\ttotal: 7m 58s\tremaining: 22s\n",
            "956:\tlearn: 0.0086855\ttotal: 7m 59s\tremaining: 21.5s\n",
            "957:\tlearn: 0.0086842\ttotal: 7m 59s\tremaining: 21s\n",
            "958:\tlearn: 0.0086836\ttotal: 8m\tremaining: 20.5s\n",
            "959:\tlearn: 0.0086825\ttotal: 8m\tremaining: 20s\n",
            "960:\tlearn: 0.0086816\ttotal: 8m 1s\tremaining: 19.5s\n",
            "961:\tlearn: 0.0086806\ttotal: 8m 1s\tremaining: 19s\n",
            "962:\tlearn: 0.0086798\ttotal: 8m 2s\tremaining: 18.5s\n",
            "963:\tlearn: 0.0086788\ttotal: 8m 2s\tremaining: 18s\n",
            "964:\tlearn: 0.0086770\ttotal: 8m 2s\tremaining: 17.5s\n",
            "965:\tlearn: 0.0086764\ttotal: 8m 3s\tremaining: 17s\n",
            "966:\tlearn: 0.0086750\ttotal: 8m 4s\tremaining: 16.5s\n",
            "967:\tlearn: 0.0086743\ttotal: 8m 4s\tremaining: 16s\n",
            "968:\tlearn: 0.0086737\ttotal: 8m 4s\tremaining: 15.5s\n",
            "969:\tlearn: 0.0086725\ttotal: 8m 5s\tremaining: 15s\n",
            "970:\tlearn: 0.0086704\ttotal: 8m 5s\tremaining: 14.5s\n",
            "971:\tlearn: 0.0086700\ttotal: 8m 6s\tremaining: 14s\n",
            "972:\tlearn: 0.0086693\ttotal: 8m 6s\tremaining: 13.5s\n",
            "973:\tlearn: 0.0086681\ttotal: 8m 7s\tremaining: 13s\n",
            "974:\tlearn: 0.0086657\ttotal: 8m 7s\tremaining: 12.5s\n",
            "975:\tlearn: 0.0086646\ttotal: 8m 8s\tremaining: 12s\n",
            "976:\tlearn: 0.0086645\ttotal: 8m 8s\tremaining: 11.5s\n",
            "977:\tlearn: 0.0086638\ttotal: 8m 9s\tremaining: 11s\n",
            "978:\tlearn: 0.0086625\ttotal: 8m 9s\tremaining: 10.5s\n",
            "979:\tlearn: 0.0086618\ttotal: 8m 10s\tremaining: 10s\n",
            "980:\tlearn: 0.0086612\ttotal: 8m 10s\tremaining: 9.5s\n",
            "981:\tlearn: 0.0086608\ttotal: 8m 11s\tremaining: 9s\n",
            "982:\tlearn: 0.0086602\ttotal: 8m 11s\tremaining: 8.5s\n",
            "983:\tlearn: 0.0086590\ttotal: 8m 12s\tremaining: 8s\n",
            "984:\tlearn: 0.0086585\ttotal: 8m 12s\tremaining: 7.5s\n",
            "985:\tlearn: 0.0086579\ttotal: 8m 13s\tremaining: 7s\n",
            "986:\tlearn: 0.0086575\ttotal: 8m 13s\tremaining: 6.5s\n",
            "987:\tlearn: 0.0086570\ttotal: 8m 14s\tremaining: 6s\n",
            "988:\tlearn: 0.0086563\ttotal: 8m 14s\tremaining: 5.5s\n",
            "989:\tlearn: 0.0086551\ttotal: 8m 15s\tremaining: 5s\n",
            "990:\tlearn: 0.0086538\ttotal: 8m 15s\tremaining: 4.5s\n",
            "991:\tlearn: 0.0086526\ttotal: 8m 16s\tremaining: 4s\n",
            "992:\tlearn: 0.0086519\ttotal: 8m 16s\tremaining: 3.5s\n",
            "993:\tlearn: 0.0086512\ttotal: 8m 17s\tremaining: 3s\n",
            "994:\tlearn: 0.0086503\ttotal: 8m 17s\tremaining: 2.5s\n",
            "995:\tlearn: 0.0086495\ttotal: 8m 18s\tremaining: 2s\n",
            "996:\tlearn: 0.0086485\ttotal: 8m 18s\tremaining: 1.5s\n",
            "997:\tlearn: 0.0086482\ttotal: 8m 19s\tremaining: 1s\n",
            "998:\tlearn: 0.0086472\ttotal: 8m 19s\tremaining: 500ms\n",
            "999:\tlearn: 0.0086461\ttotal: 8m 20s\tremaining: 0us\n"
          ],
          "name": "stdout"
        },
        {
          "output_type": "execute_result",
          "data": {
            "text/plain": [
              "<catboost.core.CatBoostRegressor at 0x7f60f0234208>"
            ]
          },
          "metadata": {
            "tags": []
          },
          "execution_count": 42
        }
      ]
    },
    {
      "cell_type": "code",
      "metadata": {
        "id": "I4Sdxc2KCUi-",
        "colab_type": "code",
        "outputId": "277b348e-6adc-4b38-c911-9a405b2584d1",
        "colab": {
          "base_uri": "https://localhost:8080/",
          "height": 241
        }
      },
      "source": [
        "#grid = GridSearchCV(estimator=model, param_grid = params, cv = 3, n_jobs=-1, verbose = 10)\n",
        "#grid.fit(X_train, y_train)\n",
        "\n",
        "# Results from Grid Search\n",
        "print(\"\\n========================================================\")\n",
        "print(\" Results from Grid Search \" )\n",
        "print(\"========================================================\")\n",
        "print(\"\\n The best estimator across ALL searched params:\\n\",\n",
        "      grid.best_estimator_)\n",
        "print(\"\\n The best score across ALL searched params:\\n\",\n",
        "      grid.best_score_)\n",
        "print(\"\\n The best parameters across ALL searched params:\\n\",\n",
        "      grid.best_params_)\n",
        "print(\"\\n ========================================================\")"
      ],
      "execution_count": 0,
      "outputs": [
        {
          "output_type": "stream",
          "text": [
            "Fitting 3 folds for each of 24 candidates, totalling 72 fits\n"
          ],
          "name": "stdout"
        },
        {
          "output_type": "stream",
          "text": [
            "[Parallel(n_jobs=-1)]: Using backend LokyBackend with 2 concurrent workers.\n",
            "[Parallel(n_jobs=-1)]: Done   1 tasks      | elapsed:  2.6min\n",
            "[Parallel(n_jobs=-1)]: Done   4 tasks      | elapsed:  6.4min\n",
            "/usr/local/lib/python3.6/dist-packages/joblib/externals/loky/process_executor.py:706: UserWarning: A worker stopped while some jobs were given to the executor. This can be caused by a too short worker timeout or by a memory leak.\n",
            "  \"timeout or by a memory leak.\", UserWarning\n",
            "[Parallel(n_jobs=-1)]: Done   9 tasks      | elapsed: 13.4min\n",
            "[Parallel(n_jobs=-1)]: Done  14 tasks      | elapsed: 25.0min\n",
            "[Parallel(n_jobs=-1)]: Done  21 tasks      | elapsed: 37.6min\n",
            "[Parallel(n_jobs=-1)]: Done  28 tasks      | elapsed: 52.6min\n",
            "[Parallel(n_jobs=-1)]: Done  37 tasks      | elapsed: 75.9min\n",
            "[Parallel(n_jobs=-1)]: Done  46 tasks      | elapsed: 98.8min\n"
          ],
          "name": "stderr"
        }
      ]
    },
    {
      "cell_type": "code",
      "metadata": {
        "id": "Wkd8YpRhpzAZ",
        "colab_type": "code",
        "colab": {}
      },
      "source": [
        "y_predict = model.predict(X_test)\n",
        "y_predict = np.expm1(y_predict)"
      ],
      "execution_count": 0,
      "outputs": []
    },
    {
      "cell_type": "code",
      "metadata": {
        "id": "2M_MG3PMqJ97",
        "colab_type": "code",
        "outputId": "d749b932-8364-42de-9a4a-bfc95476abeb",
        "colab": {
          "base_uri": "https://localhost:8080/",
          "height": 282
        }
      },
      "source": [
        "plt.scatter(y_test, y_predict)"
      ],
      "execution_count": 44,
      "outputs": [
        {
          "output_type": "execute_result",
          "data": {
            "text/plain": [
              "<matplotlib.collections.PathCollection at 0x7f60ed18d0f0>"
            ]
          },
          "metadata": {
            "tags": []
          },
          "execution_count": 44
        },
        {
          "output_type": "display_data",
          "data": {
            "image/png": "[encoded data removed]",
            "text/plain": [
              "<Figure size 432x288 with 1 Axes>"
            ]
          },
          "metadata": {
            "tags": [],
            "needs_background": "light"
          }
        }
      ]
    },
    {
      "cell_type": "code",
      "metadata": {
        "id": "_9FOxz97qSHX",
        "colab_type": "code",
        "outputId": "4aa0198c-23d6-4c0d-d333-7c5de8b83d99",
        "colab": {
          "base_uri": "https://localhost:8080/",
          "height": 238
        }
      },
      "source": [
        "y_pred_s = pd.Series(y_predict)\n",
        "count, division = np.histogram(y_pred_s)\n",
        "print(f\"Data_Slice: {division}\")\n",
        "print(f\"Count: {count}\")\n",
        "y_pred_s.describe()"
      ],
      "execution_count": 45,
      "outputs": [
        {
          "output_type": "stream",
          "text": [
            "Data_Slice: [  13.98642344  672.23502115 1330.48361885 1988.73221656 2646.98081426\n",
            " 3305.22941197 3963.47800967 4621.72660738 5279.97520508 5938.22380279\n",
            " 6596.47240049]\n",
            "Count: [12652   835   135    41    20     8     2     2     0     2]\n"
          ],
          "name": "stdout"
        },
        {
          "output_type": "execute_result",
          "data": {
            "text/plain": [
              "count    13697.000000\n",
              "mean       243.391320\n",
              "std        332.755758\n",
              "min         13.986423\n",
              "25%         57.455836\n",
              "50%        127.444384\n",
              "75%        296.827964\n",
              "max       6596.472400\n",
              "dtype: float64"
            ]
          },
          "metadata": {
            "tags": []
          },
          "execution_count": 45
        }
      ]
    },
    {
      "cell_type": "code",
      "metadata": {
        "id": "vw5mq4FDqV0v",
        "colab_type": "code",
        "outputId": "777ea7b3-81b2-4e61-d0b3-a85ce2901fbb",
        "colab": {
          "base_uri": "https://localhost:8080/",
          "height": 34
        }
      },
      "source": [
        "y_pred_less_than_0 = y_pred_s[y_pred_s < 0]\n",
        "print(y_pred_less_than_0.values)"
      ],
      "execution_count": 46,
      "outputs": [
        {
          "output_type": "stream",
          "text": [
            "[]\n"
          ],
          "name": "stdout"
        }
      ]
    },
    {
      "cell_type": "code",
      "metadata": {
        "id": "87YZDpnLqY3j",
        "colab_type": "code",
        "colab": {}
      },
      "source": [
        "# negative requirement doesn't mean anything.\n",
        "y_predict[y_predict < 0] = 0"
      ],
      "execution_count": 0,
      "outputs": []
    },
    {
      "cell_type": "code",
      "metadata": {
        "id": "G2HtzVBkqdFu",
        "colab_type": "code",
        "outputId": "21e71b31-dbf9-4e2b-e2f8-d442d2a3b8c5",
        "colab": {
          "base_uri": "https://localhost:8080/",
          "height": 282
        }
      },
      "source": [
        "plt.scatter(y_test, y_predict)"
      ],
      "execution_count": 48,
      "outputs": [
        {
          "output_type": "execute_result",
          "data": {
            "text/plain": [
              "<matplotlib.collections.PathCollection at 0x7f60ed1664a8>"
            ]
          },
          "metadata": {
            "tags": []
          },
          "execution_count": 48
        },
        {
          "output_type": "display_data",
          "data": {
            "image/png": "[encoded data removed]",
            "text/plain": [
              "<Figure size 432x288 with 1 Axes>"
            ]
          },
          "metadata": {
            "tags": [],
            "needs_background": "light"
          }
        }
      ]
    },
    {
      "cell_type": "code",
      "metadata": {
        "id": "vi3RlUfgqf9X",
        "colab_type": "code",
        "outputId": "1a7fc209-6e7b-496b-dae6-2981fe3e34c3",
        "colab": {
          "base_uri": "https://localhost:8080/",
          "height": 34
        }
      },
      "source": [
        "from sklearn.metrics import mean_squared_log_error\n",
        "np.sqrt(mean_squared_log_error( y_test, y_predict ))"
      ],
      "execution_count": 49,
      "outputs": [
        {
          "output_type": "execute_result",
          "data": {
            "text/plain": [
              "3.286847823188102"
            ]
          },
          "metadata": {
            "tags": []
          },
          "execution_count": 49
        }
      ]
    },
    {
      "cell_type": "code",
      "metadata": {
        "id": "Xiwx5zKZqjOS",
        "colab_type": "code",
        "colab": {}
      },
      "source": [
        "df_tmp = df_submit.drop(['Unnamed: 0','id','center_id', 'meal_id',\n",
        "       'city_code', 'region_code', 'city_region', 'city_code_encoded', 'region_code_encoded',\n",
        "       'center_type', 'category', 'cuisine'], axis=1)"
      ],
      "execution_count": 0,
      "outputs": []
    },
    {
      "cell_type": "code",
      "metadata": {
        "id": "pZd8mc7-MXMF",
        "colab_type": "code",
        "colab": {
          "base_uri": "https://localhost:8080/",
          "height": 119
        },
        "outputId": "62eea372-05c2-4a40-fe77-09221ba14b86"
      },
      "source": [
        "df_tmp.columns"
      ],
      "execution_count": 51,
      "outputs": [
        {
          "output_type": "execute_result",
          "data": {
            "text/plain": [
              "Index(['week', 'checkout_price', 'base_price', 'emailer_for_promotion',\n",
              "       'homepage_featured', 'op_area', 'discount', 'rate_of_discount',\n",
              "       'week_sin', 'week_cos', 'center_id_encoded', 'meal_id_encoded',\n",
              "       'city_region_encoded', 'center_type_encoded', 'category_encoded',\n",
              "       'cuisine_encoded', 'Quarter', 'Year'],\n",
              "      dtype='object')"
            ]
          },
          "metadata": {
            "tags": []
          },
          "execution_count": 51
        }
      ]
    },
    {
      "cell_type": "code",
      "metadata": {
        "id": "JhFNyDXqMIUW",
        "colab_type": "code",
        "colab": {}
      },
      "source": [
        "y_predict = model.predict(df_tmp)\n",
        "y_predict = np.expm1(y_predict)"
      ],
      "execution_count": 0,
      "outputs": []
    },
    {
      "cell_type": "code",
      "metadata": {
        "id": "ulMGA5y6MRau",
        "colab_type": "code",
        "colab": {}
      },
      "source": [
        "# negative requirement doesn't mean anything.\n",
        "y_predict[y_predict < 0] = 0"
      ],
      "execution_count": 0,
      "outputs": []
    },
    {
      "cell_type": "code",
      "metadata": {
        "id": "xrTbMSj_RSib",
        "colab_type": "code",
        "colab": {}
      },
      "source": [
        "submission_df = df_submit.copy()\n",
        "submission_df['num_orders'] = y_predict\n",
        "submission_df = submission_df[['id', 'num_orders']]\n",
        "submission_df.to_csv('submission_log_1.csv', index=False)"
      ],
      "execution_count": 0,
      "outputs": []
    },
    {
      "cell_type": "code",
      "metadata": {
        "id": "t47WGhNpR1cg",
        "colab_type": "code",
        "colab": {}
      },
      "source": [
        "with open('/content/gdrive/My Drive/submission_1.csv', 'w') as f:\n",
        "  f.write('content')"
      ],
      "execution_count": 0,
      "outputs": []
    },
    {
      "cell_type": "code",
      "metadata": {
        "id": "a7OxHj_fRZvL",
        "colab_type": "code",
        "colab": {
          "base_uri": "https://localhost:8080/",
          "height": 34
        },
        "outputId": "9a7c8511-a63c-452f-c9bd-0007a9dc7ca7"
      },
      "source": [
        "!cp submission_1.csv \"drive/My Drive/data\""
      ],
      "execution_count": 57,
      "outputs": [
        {
          "output_type": "stream",
          "text": [
            "cp: cannot create regular file 'drive/My Drive/data': No such file or directory\n"
          ],
          "name": "stdout"
        }
      ]
    },
    {
      "cell_type": "code",
      "metadata": {
        "id": "xALmLl-YSRyG",
        "colab_type": "code",
        "colab": {}
      },
      "source": [
        "from google.colab import files\n",
        "files.download('submission_log_1.csv')"
      ],
      "execution_count": 0,
      "outputs": []
    },
    {
      "cell_type": "code",
      "metadata": {
        "id": "nkD84xHFS3JL",
        "colab_type": "code",
        "colab": {}
      },
      "source": [
        ""
      ],
      "execution_count": 0,
      "outputs": []
    }
  ]
}